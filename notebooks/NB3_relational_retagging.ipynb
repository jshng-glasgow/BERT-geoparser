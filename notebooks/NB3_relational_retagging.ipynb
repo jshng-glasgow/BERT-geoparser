{
 "cells": [
  {
   "cell_type": "code",
   "execution_count": 63,
   "metadata": {},
   "outputs": [],
   "source": [
    "# standard library imports\n",
    "import sys\n",
    "sys.path.append('../')\n",
    "import random\n",
    "# third party imports\n",
    "import matplotlib.pyplot as plt\n",
    "import pandas as pd\n",
    "import numpy as np\n",
    "# local imports\n",
    "from BERT_geoparser.relational_retagger import Retagger\n",
    "from BERT_geoparser.analysis import Results"
   ]
  },
  {
   "cell_type": "markdown",
   "metadata": {},
   "source": [
    "# 3. Retagging the datasets with relational toponyms\n",
    "This notebook walks through the process of turning the cities and counties datasets produced in notebook 2 into a relationally tagged dataset to use in the final model training step. We will use OSM's nominatim API (wrapped in the Gazetteer class) to search for locations and classify them into the different relationships described in the paper. Retagging takes a long time - around 5-6 hours in total. If internet connection is lost you can restart the tagging process from any point using the `offset` and `limit` options. These will specify the index the retagger should start and end at, respectively.\n",
    "\n",
    "The retagging process uses the `Retagger` class in `retagger.py`.\n",
    "\n",
    "This takes a long time. To speed up the process it saves information about places it has already seen in a dictionary. You can use `save_period` to periodcially save this dictionary to a JSON. This helps if you expect your internet to drop out and will speed up re-tagging. Be warned though - the JSON is extremely big (~1GB) so takes a long tim to save an dload towards the end. Setting the save period too frequently will really slow down the process. \n",
    "\n",
    "**NOTE**: that very occasionally the location canno be found in OSM and will be tagged as \"Missing\" in the dataset. These should manually be changed to 'TAR' tags."
   ]
  },
  {
   "cell_type": "code",
   "execution_count": null,
   "metadata": {},
   "outputs": [],
   "source": [
    "## import the tagged dataset and the cities dataset, and retag.\n",
    "tagged_df = pd.read_csv('../data/NB2/wiki_cities_tagged.csv')\n",
    "reference_df =pd.read_csv ('../data/NB2/wiki_cities_reference.csv')\n",
    "retagger = Retagger(tagged_df=tagged_df, reference_df=reference_df)\n",
    "retagger.retag(['LOC'], offset=0, limit=None, save_period=4000)\n",
    "\n",
    "retagger.df.to_csv('../data/NB3/wiki_cities_retagged.csv', index=False)"
   ]
  },
  {
   "cell_type": "code",
   "execution_count": null,
   "metadata": {},
   "outputs": [],
   "source": [
    "## import the tagged dataset and the cities dataset, and retag.\n",
    "tagged_df = pd.read_csv('../data/NB2/wiki_counties_tagged.csv')\n",
    "reference_df =pd.read_csv ('../data/NB2/wiki_counties_reference.csv')\n",
    "retagger = Retagger(tagged_df=tagged_df, reference_df=reference_df)\n",
    "retagger.retag(['LOC'], offset=0, limit=None, save_period=4000)\n",
    "\n",
    "retagger.df.to_csv('../data/NB3/wiki_counties_retagged.csv', index=False)"
   ]
  },
  {
   "cell_type": "markdown",
   "metadata": {},
   "source": [
    "Joint the two datasets together and split into a training and testing set. We will assign 10% of the sentences in the full dataset to be used to test the model.\n",
    "\n",
    "**NOTE**: I have not set a random seed here (sorry!). Models trained on different training sets may vary. The dataset used to train the model has been made available in the repository. If you wish to run the code below please alter the filename to avoid overwriting."
   ]
  },
  {
   "cell_type": "code",
   "execution_count": null,
   "metadata": {},
   "outputs": [],
   "source": [
    "# make a joined \"wiki_places\" dataset and split into trianing and testing\n",
    "wiki_cities = pd.read_csv('../data/NB3/wiki_cities_retagged.csv')\n",
    "wiki_counties = pd.read_csv('../data/NB3/wiiki_counties_retagged.csv')\n",
    "\n",
    "# adjust the sentence number on wiki_counties\n",
    "offset = np.amax(wiki_cities['Sentence #']) + 1\n",
    "wiki_counties['Sentence #'] = wiki_counties['Sentence #'] + offset \n",
    "\n",
    "# join them together\n",
    "wiki_places = pd.concat([wiki_cities, wiki_counties])\n",
    "\n",
    "# get total sentences and smaple 10% for test data\n",
    "total_sentences = len(wiki_places)\n",
    "test_size = total_sentences//10\n",
    "test_sentences = random.sample(wiki_places['Sentence #'], k=test_size)\n",
    "\n",
    "# split full dataset to test and train\n",
    "wiki_places_test = wiki_places[wiki_places['Sentence #'].isin(test_sentences)]\n",
    "wiki_places_train = wiki_places[~wiki_places['Sentence #'].isin(test_sentences)]\n",
    "\n",
    "# save datasets\n",
    "wiki_places_train.to_csv('../data/NB3/wiki_places_retagged_train.csv', index=False)\n",
    "wiki_places_test.to_csv('../data/NB3/wiki_places_retagged_test.csv', index=False)\n",
    "wiki_places.to_csv('../data/NB3/wiki_places_retagged.csv', index=False)"
   ]
  },
  {
   "cell_type": "markdown",
   "metadata": {},
   "source": [
    "Assign 200 sentences from the test set to receive human applied tags. \n",
    "\n",
    "**NOTE**: The dataset provided in the repository already has human tags applied. Running the cells below will overwrite this data. Please make a copy before running, or adjust the file name to avoid overwriting."
   ]
  },
  {
   "cell_type": "code",
   "execution_count": null,
   "metadata": {},
   "outputs": [],
   "source": [
    "# Finally, we need to assign a sample of the test datsets to be reveiwed\n",
    "review_sentences_idx = random.sample(wiki_places_test['Sentence #'].values() k=200)\n",
    "review_sentences_full = wiki_places_test[wiki_places_test['Sentence #'].isin(review_sentences_idx)]\n",
    "# we'll need to remove the tag column for the review process\n",
    "review_sentences_no_tag = review_sentences_full.drop('Tag', axis='columns')\n",
    "review_sentences_no_tag.to_csv('../data/NB3/wiki_places_reveiwed.csv', index=False)\n",
    "review_sentences_full.to_csv('../data/NB3/wiki_places_reveiwed_full.csv', index=False) "
   ]
  },
  {
   "cell_type": "markdown",
   "metadata": {},
   "source": [
    "## 3.1 Assessing the tagging rules \n",
    "In this section we compare the human reveiewed data with the output of the relational tagging process. There are a couple of known issues with tags which need to be fixed first. We will replace all 'NON' tags with 'INC', and assume that any locations which could not be found are incidental. We will also fix a common problem with occurances of the phrase \"U. S.\" in the data, which is safe to assume will almost allways require a 'PAR' tag.\n",
    "\n",
    "Human tags do not include the 'B' or 'I' indicators, so we will ignore these in the review process. For example, any token tagged by the algorithm as either '[B-PAR]' or '[I-PAR]' will be correct if and only if the human tag was 'P'."
   ]
  },
  {
   "cell_type": "code",
   "execution_count": 36,
   "metadata": {},
   "outputs": [],
   "source": [
    "## it might also be good to replace all the 'NON' with 'INC'\n",
    "\n",
    "def replace_non(df):\n",
    "    df['Tag'] = df['Tag'].replace({'B-NON':'B-INC', 'I-NON':'I-INC'})\n",
    "    #df['human_tag'] = df['human_tag'].replace({'N':'I'})\n",
    "    return df\n",
    "\n",
    "def fix_us_pattern(df):\n",
    "    target_sequence = ['u', '.', 's', '.']\n",
    "    for i, row in df.iloc[:-4].iterrows():\n",
    "        if list(df.loc[i:i+3]['Word'].values) == target_sequence:\n",
    "            df['Tag'].loc[i:i+3] = ['B-PAR']*4\n",
    "    return df"
   ]
  },
  {
   "cell_type": "code",
   "execution_count": null,
   "metadata": {},
   "outputs": [],
   "source": [
    "reviewed_data = pd.read_csv('../data/NB3/wiki_places_reviewed.csv')\n",
    "reviewed_data = pd.read_csv('../data/NB3/wiki_places_reviewed_new.csv')\n",
    "#reviewed_data_full = pd.read_csv('../data/NB3/wiki_places_reviewed_full.csv')\n",
    "# add the 'Tag' column back into the reviewed data\n",
    "#reviewed_data['Tag'] = reviewed_data_full['Tag']\n",
    "reviewed_data = replace_non(reviewed_data)\n",
    "reviewed_data = fix_us_pattern(reviewed_data)"
   ]
  },
  {
   "cell_type": "markdown",
   "metadata": {},
   "source": [
    "## 3.2 using `analysis.py` to get precision, recall and F1\n",
    "We will use the `Results` class in `analysis.py` to assess the precision, recall and F1 score of the algorithm against the human tagged data. First we need to clean up the datasets a little so it can be handled by the `Results` class. Note that any toponyms tagged as `NON` by the human reviewer will be assumed to be the `INC` class. "
   ]
  },
  {
   "cell_type": "code",
   "execution_count": 59,
   "metadata": {},
   "outputs": [],
   "source": [
    "# Dictionary to translate human tags\n",
    "human_tag_dict = {'TAR':'T', 'PAR':'P', 'CHI':'C', 'ADJ':'A', 'CRO':'X', 'NON':'N', 'INC':'I', 'O':'O'}\n",
    "## Format dataset to have 'pred' and 'tag' columns\n",
    "reviewed_data['tag'] = reviewed_data['human_tag']\n",
    "# replace 'N' tags with 'I' in human tagging\n",
    "reviewed_data['tag'] = reviewed_data['tag'].replace({'N':'I'})\n",
    "reviewed_data['pred'] = [human_tag_dict[y[-3:]] for y in reviewed_data['Tag']]"
   ]
  },
  {
   "cell_type": "code",
   "execution_count": 82,
   "metadata": {},
   "outputs": [
    {
     "name": "stdout",
     "output_type": "stream",
     "text": [
      "T\n",
      "Total assigned by human : 796\n",
      "Total assigned by algorithm : 878\n",
      "Precision : 0.86\n",
      "Recall : 0.948\n",
      "F1 : 0.902\n",
      "###################################\n",
      "P\n",
      "Total assigned by human : 1472\n",
      "Total assigned by algorithm : 1223\n",
      "Precision : 0.975\n",
      "Recall : 0.81\n",
      "F1 : 0.885\n",
      "###################################\n",
      "C\n",
      "Total assigned by human : 350\n",
      "Total assigned by algorithm : 210\n",
      "Precision : 0.905\n",
      "Recall : 0.543\n",
      "F1 : 0.679\n",
      "###################################\n",
      "A\n",
      "Total assigned by human : 380\n",
      "Total assigned by algorithm : 381\n",
      "Precision : 0.706\n",
      "Recall : 0.708\n",
      "F1 : 0.707\n",
      "###################################\n",
      "X\n",
      "Total assigned by human : 50\n",
      "Total assigned by algorithm : 63\n",
      "Precision : 0.508\n",
      "Recall : 0.64\n",
      "F1 : 0.566\n",
      "###################################\n",
      "I\n",
      "Total assigned by human : 498\n",
      "Total assigned by algorithm : 797\n",
      "Precision : 0.44\n",
      "Recall : 0.785\n",
      "F1 : 0.564\n",
      "###################################\n"
     ]
    }
   ],
   "source": [
    "# use Results class to get accuracy metrics\n",
    "results = Results(reviewed_data)\n",
    "category_accuracy = {}\n",
    "for tag in ['T', 'P', 'C', 'A', 'X', 'I']:    \n",
    "    category_accuracy.update({tag:results.build_accuracy_dict(tag)})\n",
    "\n",
    "for tag, res in category_accuracy.items():\n",
    "    print(tag)\n",
    "    print(f'Total assigned by human : {res[\"total tagged\"]}')\n",
    "    print(f'Total assigned by algorithm : {res[\"total predicted\"]}')\n",
    "    print(f'Precision : {np.round(res[\"precision\"], 3)}')\n",
    "    print(f'Recall : {np.round(res[\"recall\"], 3)}')\n",
    "    print(f'F1 : {np.round(res[\"F1\"], 3)}')\n",
    "    print('###################################')"
   ]
  },
  {
   "cell_type": "markdown",
   "metadata": {},
   "source": [
    "## 3.3 Confusion matrix\n",
    "We ill consider the recall matric only for this analysis. This will give the distribution of algorithm guesses, given the human applied tag."
   ]
  },
  {
   "cell_type": "code",
   "execution_count": 83,
   "metadata": {},
   "outputs": [
    {
     "data": {
      "text/plain": [
       "{'TAR': {'TAR': 0.9484924623115578,\n",
       "  'PAR': 0.008793969849246231,\n",
       "  'CHI': 0.005025125628140704,\n",
       "  'ADJ': 0.007537688442211055,\n",
       "  'CRO': 0.0,\n",
       "  'INC': 0.026381909547738693},\n",
       " 'PAR': {'TAR': 0.03940217391304348,\n",
       "  'PAR': 0.8104619565217391,\n",
       "  'CHI': 0.005434782608695652,\n",
       "  'ADJ': 0.016983695652173912,\n",
       "  'CRO': 0.004076086956521739,\n",
       "  'INC': 0.12296195652173914},\n",
       " 'CHI': {'TAR': 0.09428571428571429,\n",
       "  'PAR': 0.0,\n",
       "  'CHI': 0.5428571428571428,\n",
       "  'ADJ': 0.06285714285714286,\n",
       "  'CRO': 0.0,\n",
       "  'INC': 0.3},\n",
       " 'ADJ': {'TAR': 0.0,\n",
       "  'PAR': 0.021052631578947368,\n",
       "  'CHI': 0.0,\n",
       "  'ADJ': 0.7078947368421052,\n",
       "  'CRO': 0.05,\n",
       "  'INC': 0.22105263157894736},\n",
       " 'CRO': {'TAR': 0.0,\n",
       "  'PAR': 0.0,\n",
       "  'CHI': 0.0,\n",
       "  'ADJ': 0.32,\n",
       "  'CRO': 0.64,\n",
       "  'INC': 0.04},\n",
       " 'INC': {'TAR': 0.029055690072639227,\n",
       "  'PAR': 0.026634382566585957,\n",
       "  'CHI': 0.01937046004842615,\n",
       "  'ADJ': 0.05811138014527845,\n",
       "  'CRO': 0.014527845036319613,\n",
       "  'INC': 0.8498789346246973}}"
      ]
     },
     "execution_count": 83,
     "metadata": {},
     "output_type": "execute_result"
    }
   ],
   "source": [
    "category_guesses = {}\n",
    "\n",
    "for h_tag in ['TAR', 'PAR', 'CHI', 'ADJ', 'CRO', 'INC']:\n",
    "    human_tag = human_tag_dict[h_tag]\n",
    "    \n",
    "    reviewed = reviewed_data[reviewed_data.human_tag==human_tag]\n",
    "    guesses = {}\n",
    "    for tag in ['TAR', 'PAR', 'CHI', 'ADJ', 'CRO', 'INC']:\n",
    "        guesses.update({tag: len(reviewed[reviewed.Tag.str.contains(tag)])/len(reviewed)})\n",
    "    category_guesses.update({h_tag:guesses})\n",
    "    \n",
    "category_guesses"
   ]
  },
  {
   "cell_type": "code",
   "execution_count": 84,
   "metadata": {},
   "outputs": [
    {
     "data": {
      "image/png": "[encoded data removed]",
      "text/plain": [
       "<Figure size 400x400 with 1 Axes>"
      ]
     },
     "metadata": {},
     "output_type": "display_data"
    }
   ],
   "source": [
    "heat_map = np.array([list(v.values()) for k,v in category_guesses.items()])\n",
    "tags = list(category_guesses.keys())\n",
    "\n",
    "fig, ax = plt.subplots(figsize=(4,4))\n",
    "im = ax.imshow(heat_map.T, cmap='Blues')\n",
    "ax.set_xticks(np.arange(len(tags)), labels=tags)\n",
    "ax.set_yticks(np.arange(len(tags)), labels=tags)\n",
    "\n",
    "ax.set_xlabel('Human assigned tag')\n",
    "ax.set_ylabel('Algorithm assigned tag')\n",
    "# Loop over data dimensions and create text annotations.\n",
    "for i, hum_tag in enumerate(tags):\n",
    "    for j, alg_tag in enumerate(tags):\n",
    "        val = category_guesses[alg_tag][hum_tag]\n",
    "        if val > 0.7:\n",
    "            text = ax.text(j, i, np.round(val,2), ha=\"center\", va=\"center\", color=\"w\")\n",
    "        else:\n",
    "            text = ax.text(j, i, np.round(val,2), ha=\"center\", va=\"center\", color=\"k\") \n",
    "fig.tight_layout()\n",
    "plt.show()   \n",
    "\n",
    "fig.savefig('../results/fig_1.pdf')              \n",
    "                "
   ]
  },
  {
   "cell_type": "code",
   "execution_count": null,
   "metadata": {},
   "outputs": [],
   "source": []
  }
 ],
 "metadata": {
  "kernelspec": {
   "display_name": "tensorflow-gpu",
   "language": "python",
   "name": "python3"
  },
  "language_info": {
   "codemirror_mode": {
    "name": "ipython",
    "version": 3
   },
   "file_extension": ".py",
   "mimetype": "text/x-python",
   "name": "python",
   "nbconvert_exporter": "python",
   "pygments_lexer": "ipython3",
   "version": "3.10.13"
  }
 },
 "nbformat": 4,
 "nbformat_minor": 2
}
