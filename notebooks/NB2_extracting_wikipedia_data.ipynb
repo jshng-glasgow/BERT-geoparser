{
 "cells": [
  {
   "cell_type": "markdown",
   "metadata": {},
   "source": [
    "# Exploring Wikipedia as a dataset for tar/inc tagging model\n",
    "This notebook walks through the methods used to build a dataste of wikipedia pages to train our relational tagging model."
   ]
  },
  {
   "cell_type": "code",
   "execution_count": 2,
   "metadata": {},
   "outputs": [],
   "source": [
    "# standard library imports\n",
    "import sys\n",
    "import re\n",
    "sys.path.append('../')\n",
    "# third party imports\n",
    "import wikipedia\n",
    "from tqdm import tqdm\n",
    "from shapely.geometry import Point, shape\n",
    "from geopy.distance import distance\n",
    "import pandas as pd\n",
    "# local imports\n",
    "from BERT_geoparser.gazetteer import Gazetteer\n",
    "from BERT_geoparser.tokenizer import Tokenizer\n",
    "from BERT_geoparser.model import BertModel\n",
    "from BERT_geoparser.data import Data"
   ]
  },
  {
   "cell_type": "markdown",
   "metadata": {},
   "source": [
    "## 2 Building a dataset of wikipedia locations\n",
    "Now we have a trained NER-tagging model we can move on to buildng a new dataset to tage. To do this, we will randomly sample locations from a gazetteer of world cities, and use the wikipedia api to access the corresponding wikipedia page. We will then randomly sample sentences from that page an split them into tokens to input into the model.\n",
    "\n",
    "# 2.1 Building a list of locations to search for\n",
    "We have used work by Hertford et al (Hertford, 2023) to limit our search to countries which have relatively high OSM completeness. These countries are stored in the parameter `accepted_countries`. We then use the GeoNames datasbase to search for all cities with a population greater than 1000 within those countries. This dataset requires a little cleaning before use."
   ]
  },
  {
   "cell_type": "code",
   "execution_count": 71,
   "metadata": {},
   "outputs": [
    {
     "data": {
      "text/html": [
       "<div>\n",
       "<style scoped>\n",
       "    .dataframe tbody tr th:only-of-type {\n",
       "        vertical-align: middle;\n",
       "    }\n",
       "\n",
       "    .dataframe tbody tr th {\n",
       "        vertical-align: top;\n",
       "    }\n",
       "\n",
       "    .dataframe thead th {\n",
       "        text-align: right;\n",
       "    }\n",
       "</style>\n",
       "<table border=\"1\" class=\"dataframe\">\n",
       "  <thead>\n",
       "    <tr style=\"text-align: right;\">\n",
       "      <th></th>\n",
       "      <th>Geoname ID</th>\n",
       "      <th>Name</th>\n",
       "      <th>ASCII Name</th>\n",
       "      <th>Alternate Names</th>\n",
       "      <th>Feature Class</th>\n",
       "      <th>Feature Code</th>\n",
       "      <th>Country Code</th>\n",
       "      <th>Country name EN</th>\n",
       "      <th>Country Code 2</th>\n",
       "      <th>Admin1 Code</th>\n",
       "      <th>Admin2 Code</th>\n",
       "      <th>Admin3 Code</th>\n",
       "      <th>Admin4 Code</th>\n",
       "      <th>Population</th>\n",
       "      <th>Elevation</th>\n",
       "      <th>DIgital Elevation Model</th>\n",
       "      <th>Timezone</th>\n",
       "      <th>Modification date</th>\n",
       "      <th>LABEL EN</th>\n",
       "      <th>Coordinates</th>\n",
       "    </tr>\n",
       "  </thead>\n",
       "  <tbody>\n",
       "    <tr>\n",
       "      <th>142027</th>\n",
       "      <td>1694792</td>\n",
       "      <td>Paraiso</td>\n",
       "      <td>Paraiso</td>\n",
       "      <td>Paraiso</td>\n",
       "      <td>P</td>\n",
       "      <td>PPL</td>\n",
       "      <td>PH</td>\n",
       "      <td>Philippines</td>\n",
       "      <td>NaN</td>\n",
       "      <td>12</td>\n",
       "      <td>70</td>\n",
       "      <td>126306000</td>\n",
       "      <td>NaN</td>\n",
       "      <td>4153</td>\n",
       "      <td>NaN</td>\n",
       "      <td>90</td>\n",
       "      <td>Asia/Manila</td>\n",
       "      <td>2018-02-06</td>\n",
       "      <td>Philippines</td>\n",
       "      <td>6.47606, 124.80954</td>\n",
       "    </tr>\n",
       "    <tr>\n",
       "      <th>142028</th>\n",
       "      <td>1694812</td>\n",
       "      <td>Paracale</td>\n",
       "      <td>Paracale</td>\n",
       "      <td>Paracale</td>\n",
       "      <td>P</td>\n",
       "      <td>PPLA3</td>\n",
       "      <td>PH</td>\n",
       "      <td>Philippines</td>\n",
       "      <td>NaN</td>\n",
       "      <td>05</td>\n",
       "      <td>15</td>\n",
       "      <td>051608000</td>\n",
       "      <td>NaN</td>\n",
       "      <td>8290</td>\n",
       "      <td>NaN</td>\n",
       "      <td>5</td>\n",
       "      <td>Asia/Manila</td>\n",
       "      <td>2017-12-13</td>\n",
       "      <td>Philippines</td>\n",
       "      <td>14.2804, 122.7881</td>\n",
       "    </tr>\n",
       "    <tr>\n",
       "      <th>142029</th>\n",
       "      <td>1695427</td>\n",
       "      <td>Pangal Sur</td>\n",
       "      <td>Pangal Sur</td>\n",
       "      <td>Pangal,Pangal Sur</td>\n",
       "      <td>P</td>\n",
       "      <td>PPL</td>\n",
       "      <td>PH</td>\n",
       "      <td>Philippines</td>\n",
       "      <td>NaN</td>\n",
       "      <td>02</td>\n",
       "      <td>31</td>\n",
       "      <td>023112000</td>\n",
       "      <td>NaN</td>\n",
       "      <td>2710</td>\n",
       "      <td>NaN</td>\n",
       "      <td>93</td>\n",
       "      <td>Asia/Manila</td>\n",
       "      <td>2017-12-13</td>\n",
       "      <td>Philippines</td>\n",
       "      <td>16.60036, 121.66979</td>\n",
       "    </tr>\n",
       "    <tr>\n",
       "      <th>142030</th>\n",
       "      <td>1695804</td>\n",
       "      <td>Panabo</td>\n",
       "      <td>Panabo</td>\n",
       "      <td>Kota Panabo,Panabo,Panabo City,Panabo Lakanbalen</td>\n",
       "      <td>P</td>\n",
       "      <td>PPL</td>\n",
       "      <td>PH</td>\n",
       "      <td>Philippines</td>\n",
       "      <td>NaN</td>\n",
       "      <td>11</td>\n",
       "      <td>I7</td>\n",
       "      <td>112315000</td>\n",
       "      <td>NaN</td>\n",
       "      <td>84749</td>\n",
       "      <td>NaN</td>\n",
       "      <td>4</td>\n",
       "      <td>Asia/Manila</td>\n",
       "      <td>2017-12-13</td>\n",
       "      <td>Philippines</td>\n",
       "      <td>7.30806, 125.68417</td>\n",
       "    </tr>\n",
       "    <tr>\n",
       "      <th>142031</th>\n",
       "      <td>1695994</td>\n",
       "      <td>Palsong</td>\n",
       "      <td>Palsong</td>\n",
       "      <td>Palsong</td>\n",
       "      <td>P</td>\n",
       "      <td>PPL</td>\n",
       "      <td>PH</td>\n",
       "      <td>Philippines</td>\n",
       "      <td>NaN</td>\n",
       "      <td>05</td>\n",
       "      <td>16</td>\n",
       "      <td>051706000</td>\n",
       "      <td>NaN</td>\n",
       "      <td>4566</td>\n",
       "      <td>NaN</td>\n",
       "      <td>18</td>\n",
       "      <td>Asia/Manila</td>\n",
       "      <td>2017-12-13</td>\n",
       "      <td>Philippines</td>\n",
       "      <td>13.4248, 123.2963</td>\n",
       "    </tr>\n",
       "  </tbody>\n",
       "</table>\n",
       "</div>"
      ],
      "text/plain": [
       "        Geoname ID        Name  ASCII Name  \\\n",
       "142027     1694792     Paraiso     Paraiso   \n",
       "142028     1694812    Paracale    Paracale   \n",
       "142029     1695427  Pangal Sur  Pangal Sur   \n",
       "142030     1695804      Panabo      Panabo   \n",
       "142031     1695994     Palsong     Palsong   \n",
       "\n",
       "                                         Alternate Names Feature Class  \\\n",
       "142027                                           Paraiso             P   \n",
       "142028                                          Paracale             P   \n",
       "142029                                 Pangal,Pangal Sur             P   \n",
       "142030  Kota Panabo,Panabo,Panabo City,Panabo Lakanbalen             P   \n",
       "142031                                           Palsong             P   \n",
       "\n",
       "       Feature Code Country Code Country name EN Country Code 2 Admin1 Code  \\\n",
       "142027          PPL           PH     Philippines            NaN          12   \n",
       "142028        PPLA3           PH     Philippines            NaN          05   \n",
       "142029          PPL           PH     Philippines            NaN          02   \n",
       "142030          PPL           PH     Philippines            NaN          11   \n",
       "142031          PPL           PH     Philippines            NaN          05   \n",
       "\n",
       "       Admin2 Code Admin3 Code Admin4 Code  Population  Elevation  \\\n",
       "142027          70   126306000         NaN        4153        NaN   \n",
       "142028          15   051608000         NaN        8290        NaN   \n",
       "142029          31   023112000         NaN        2710        NaN   \n",
       "142030          I7   112315000         NaN       84749        NaN   \n",
       "142031          16   051706000         NaN        4566        NaN   \n",
       "\n",
       "        DIgital Elevation Model     Timezone Modification date     LABEL EN  \\\n",
       "142027                       90  Asia/Manila        2018-02-06  Philippines   \n",
       "142028                        5  Asia/Manila        2017-12-13  Philippines   \n",
       "142029                       93  Asia/Manila        2017-12-13  Philippines   \n",
       "142030                        4  Asia/Manila        2017-12-13  Philippines   \n",
       "142031                       18  Asia/Manila        2017-12-13  Philippines   \n",
       "\n",
       "                Coordinates  \n",
       "142027   6.47606, 124.80954  \n",
       "142028    14.2804, 122.7881  \n",
       "142029  16.60036, 121.66979  \n",
       "142030   7.30806, 125.68417  \n",
       "142031    13.4248, 123.2963  "
      ]
     },
     "execution_count": 71,
     "metadata": {},
     "output_type": "execute_result"
    }
   ],
   "source": [
    "world_cities = pd.read_csv('../data/NB2/geonames_world_cities.csv', delimiter=';')\n",
    "world_cities.tail()"
   ]
  },
  {
   "cell_type": "code",
   "execution_count": 9,
   "metadata": {},
   "outputs": [],
   "source": [
    "# clean up the coordinates column\n",
    "get_lat = lambda coords : float(coords.split(', ')[0])\n",
    "get_lng = lambda coords : float(coords.split(', ')[1])\n",
    "\n",
    "world_cities['lat'] = world_cities.Coordinates.apply(get_lat)\n",
    "world_cities['lng'] = world_cities.Coordinates.apply(get_lng)\n",
    "world_cities = world_cities.rename(columns={'Name':'city', 'ASCII Name':'city_ascii', 'Country name EN':'country', 'Population':'population'})"
   ]
  },
  {
   "cell_type": "code",
   "execution_count": 10,
   "metadata": {},
   "outputs": [],
   "source": [
    "countries = world_cities.country.unique()"
   ]
  },
  {
   "cell_type": "code",
   "execution_count": 11,
   "metadata": {},
   "outputs": [],
   "source": [
    "accepted_countries = ['United States', 'Canada', 'Portugal', 'Spain', 'France', 'Ireland', 'United Kingdom', 'Norway', 'Sweden', 'Denmark', 'Finland',\n",
    "                      'Belgium', 'Netherlands', 'Switzerland', 'Austria', 'Germany', 'Italy', 'Czech Republic', 'Slovakia', 'Slovenia', 'Hungary', 'Bosnia and Herzegovina', 'Croatia',\n",
    "                      'Slovakia', 'Poland', 'Lithuania', 'Latvia', 'Estonia', 'Iceland']"
   ]
  },
  {
   "cell_type": "code",
   "execution_count": 12,
   "metadata": {},
   "outputs": [],
   "source": [
    "# check all the countries are in the world_cities list\n",
    "for country in accepted_countries:\n",
    "    if country not in world_cities.country.unique():\n",
    "        print(country)"
   ]
  },
  {
   "cell_type": "code",
   "execution_count": 14,
   "metadata": {},
   "outputs": [
    {
     "name": "stdout",
     "output_type": "stream",
     "text": [
      "Total locations in dataset: 72757\n"
     ]
    }
   ],
   "source": [
    "# cut the list of cities down to just those in our list of accepted countries\n",
    "world_cities = world_cities[world_cities.country.isin(accepted_countries)]\n",
    "print(f'Total locations in dataset: {len(world_cities)}')"
   ]
  },
  {
   "cell_type": "markdown",
   "metadata": {},
   "source": [
    "## 2.1 Checking that locations have associated OSM polygons\n",
    "Our method for relational tagging is reliant on the target locations being associated with a spatial polygon in OSM.. We will use the `Gazetteer` class to search the Nominatim API for each locaiton, and check whether a polygon object is returned. This can take some time, depnding on the speed of your internet connect. It took about 90 mins to complete for me. "
   ]
  },
  {
   "cell_type": "code",
   "execution_count": 208,
   "metadata": {},
   "outputs": [
    {
     "name": "stderr",
     "output_type": "stream",
     "text": [
      "100%|██████████| 10851/10851 [1:30:44<00:00,  1.99it/s]\n"
     ]
    }
   ],
   "source": [
    "# We're going to use the gazetteer to limit these to cities with OSM polygons\n",
    "gazetteer = Gazetteer(polygon=True, addressdetails=False)\n",
    "accepted_indices = []\n",
    "for i, city in tqdm(world_cities.iterrows(), total=len(world_cities)):\n",
    "    name = city.city\n",
    "    coords = (float(city.lat), float(city.lng))\n",
    "    country = city.country\n",
    "    try:\n",
    "        matches = gazetteer.query(name).json()\n",
    "    except TypeError:\n",
    "        continue\n",
    "    for match in matches:\n",
    "        if 'geojson' not in match.keys():\n",
    "            continue\n",
    "        if 'Polygon' not in match['geojson']['type']:\n",
    "            continue\n",
    "        if Point(coords) in shape(match['geojson']):\n",
    "            accepted_indices.append(i)\n",
    "            break\n",
    "# cut or cdity list down to just the ones with polygons, remove duplicates.\n",
    "poly_cities = world_cities.loc[accepted_indices]\n",
    "deduplicated = poly_cities.drop_duplicates()\n",
    "print(len(deduplicated))   \n",
    "print(poly_cities.head())         "
   ]
  },
  {
   "cell_type": "code",
   "execution_count": 216,
   "metadata": {},
   "outputs": [],
   "source": [
    "# save the dataset\n",
    "deduplicated.to_csv('../data/NB2/world_cities.csv', index=False)"
   ]
  },
  {
   "cell_type": "markdown",
   "metadata": {},
   "source": [
    "## 2.3 Searching wikipedia for these locations\n",
    "We now need to search the Wikipeida API for locations matching these. We will do various check to ensure that the identified page matches the expected location, including checking for coordinates, checking for key words, and checking for disambiguation pages.\n",
    "\n",
    "First, though, let's take a look at the data provided by the Wikipedia wpi."
   ]
  },
  {
   "cell_type": "code",
   "execution_count": 15,
   "metadata": {},
   "outputs": [],
   "source": [
    "# lets take a quick look at the wikipedia api\n",
    "glasgow = wikipedia.WikipediaPage(title='Glasgow')"
   ]
  },
  {
   "cell_type": "code",
   "execution_count": 16,
   "metadata": {},
   "outputs": [
    {
     "data": {
      "text/plain": [
       "'Glasgow (UK:  GLA(H)Z-goh, GLA(H)SS-; Scots: Glesca [ˈɡleskə] or Glesga [ˈɡlezɡə]; Scottish Gaelic: Glaschu [ˈkl̪ˠas̪əxu]) is the most populous city in Scotland, and is the third-most populous city in the United Kingdom, as well as being the 27th largest city by population in Europe. In 2022, it had an estimated population as a defined locality of \\n632,350 and anchored an urban settlement of \\n1,028,220. Formed as a county of itself in 1893, the city had previously been in the historic county of Lanarkshire (or Clydesdale) and has also grown to include settlements that were once part of Renfrewshire and Dunbartonshire (or the Lennox). It now forms the Glasgow City Council area, one of the 32 council areas of Scotland, and is administered by Glasgow City Council. \\nGlasgow has the largest economy in Scotland and the third-highest GDP per capita of any city in the UK. Glasgow\\'s major cultural institutions enjoy international reputations including The Royal Conservatoire of Scotland, Burrell Collection, Kelvingrove Art Gallery and Museum, Royal Scottish National Orchestra, BBC Scottish Symphony Orchestra, Scottish Ballet and Scottish Opera. The city was the European Capital of Culture in 1990 and is notable for its architecture, culture, media, music scene, sports clubs and transport connections. It is the fifth-most visited city in the United Kingdom. The city hosted the 2021 United Nations Climate Change Conference (COP26) at its main events venue, the SEC Centre. Glasgow hosted the 2014 Commonwealth Games and the first European Championships in 2018, and was one of the host cities for UEFA Euro 2020. The city is also well known in the sporting world for football, particularly for the Old Firm rivalry.\\nGlasgow grew from a small rural settlement close to Glasgow Cathedral and descending to the River Clyde to become the largest seaport in Scotland, and tenth largest by tonnage in Britain. Expanding from the medieval bishopric and episcopal burgh (subsequently royal burgh), and the later establishment of the University of Glasgow in the 15th century, it became a major centre of the Scottish Enlightenment in the 18th century. From the 18th century onwards, the city also grew as one of Britain\\'s main hubs of oceanic trade with North America and the West Indies; soon followed by the Orient, India, and China. With the onset of the Industrial Revolution, the population and economy of Glasgow and the surrounding region expanded rapidly to become one of the world\\'s pre-eminent centres of chemicals, textiles and engineering; most notably in the shipbuilding and marine engineering industry, which produced many innovative and famous vessels. Glasgow was the \"Second City of the British Empire\" for much of the Victorian and Edwardian eras.In the late 19th and early 20th centuries, Glasgow\\'s population grew rapidly, reaching a peak of 1,127,825 people in 1938 (with a higher density and within a smaller territory than in subsequent decades). The population was greatly reduced following comprehensive urban renewal projects in the 1960s which resulted in large-scale relocation of people to designated new towns, such as Cumbernauld, Livingston, East Kilbride and peripheral suburbs, followed by successive boundary changes. Over 1,000,000 people live in the Greater Glasgow contiguous urban area, while the wider Glasgow City Region is home to over 1,800,000 people, equating to around 33% of Scotland\\'s population. The city has one of the highest densities of any locality in Scotland at 4,023/km2.'"
      ]
     },
     "execution_count": 16,
     "metadata": {},
     "output_type": "execute_result"
    }
   ],
   "source": [
    "glasgow.summary"
   ]
  },
  {
   "cell_type": "code",
   "execution_count": 17,
   "metadata": {},
   "outputs": [],
   "source": [
    "# we'll need a function to remove anything inside brackets to avoid the pronounciation gunk\n",
    "def remove_parentheses(input_string):\n",
    "    result = \"\"\n",
    "    stack = []\n",
    "    for char in input_string:\n",
    "        if char in ['(', '[']:\n",
    "            stack.append(char)\n",
    "        elif char in [')', ']']:\n",
    "            if stack:\n",
    "                stack.pop()\n",
    "            else:\n",
    "                result += char\n",
    "        elif not stack:\n",
    "            result += char\n",
    "    \n",
    "    return result.replace('  ', ' ')"
   ]
  },
  {
   "cell_type": "code",
   "execution_count": 18,
   "metadata": {},
   "outputs": [
    {
     "name": "stdout",
     "output_type": "stream",
     "text": [
      "Glasgow is the most populous city in Scotland, and is the third-most populous city in the United Kingdom, as well as being the 27th largest city by population in Europe. In 2022, it had an estimated population as a defined locality of \n",
      "632,350 and anchored an urban settlement of \n",
      "1,028,220. Formed as a county of itself in 1893, the city had previously been in the historic county of Lanarkshire and has also grown to include settlements that were once part of Renfrewshire and Dunbartonshire . It now forms the Glasgow City Council area, one of the 32 council areas of Scotland, and is administered by Glasgow City Council. \n",
      "Glasgow has the largest economy in Scotland and the third-highest GDP per capita of any city in the UK. Glasgow's major cultural institutions enjoy international reputations including The Royal Conservatoire of Scotland, Burrell Collection, Kelvingrove Art Gallery and Museum, Royal Scottish National Orchestra, BBC Scottish Symphony Orchestra, Scottish Ballet and Scottish Opera. The city was the European Capital of Culture in 1990 and is notable for its architecture, culture, media, music scene, sports clubs and transport connections. It is the fifth-most visited city in the United Kingdom. The city hosted the 2021 United Nations Climate Change Conference at its main events venue, the SEC Centre. Glasgow hosted the 2014 Commonwealth Games and the first European Championships in 2018, and was one of the host cities for UEFA Euro 2020. The city is also well known in the sporting world for football, particularly for the Old Firm rivalry.\n",
      "Glasgow grew from a small rural settlement close to Glasgow Cathedral and descending to the River Clyde to become the largest seaport in Scotland, and tenth largest by tonnage in Britain. Expanding from the medieval bishopric and episcopal burgh , and the later establishment of the University of Glasgow in the 15th century, it became a major centre of the Scottish Enlightenment in the 18th century. From the 18th century onwards, the city also grew as one of Britain's main hubs of oceanic trade with North America and the West Indies; soon followed by the Orient, India, and China. With the onset of the Industrial Revolution, the population and economy of Glasgow and the surrounding region expanded rapidly to become one of the world's pre-eminent centres of chemicals, textiles and engineering; most notably in the shipbuilding and marine engineering industry, which produced many innovative and famous vessels. Glasgow was the \"Second City of the British Empire\" for much of the Victorian and Edwardian eras.In the late 19th and early 20th centuries, Glasgow's population grew rapidly, reaching a peak of 1,127,825 people in 1938 . The population was greatly reduced following comprehensive urban renewal projects in the 1960s which resulted in large-scale relocation of people to designated new towns, such as Cumbernauld, Livingston, East Kilbride and peripheral suburbs, followed by successive boundary changes. Over 1,000,000 people live in the Greater Glasgow contiguous urban area, while the wider Glasgow City Region is home to over 1,800,000 people, equating to around 33% of Scotland's population. The city has one of the highest densities of any locality in Scotland at 4,023/km2.\n"
     ]
    }
   ],
   "source": [
    "out = remove_parentheses(glasgow.summary)\n",
    "print(out)"
   ]
  },
  {
   "cell_type": "code",
   "execution_count": 19,
   "metadata": {},
   "outputs": [
    {
     "name": "stderr",
     "output_type": "stream",
     "text": [
      "c:\\Users\\jws10y\\AppData\\Local\\anaconda3\\envs\\tensorflow-gpu\\lib\\site-packages\\wikipedia\\wikipedia.py:389: GuessedAtParserWarning: No parser was explicitly specified, so I'm using the best available HTML parser for this system (\"html.parser\"). This usually isn't a problem, but if you run this code on another system, or in a different virtual environment, it may use a different parser and behave differently.\n",
      "\n",
      "The code that caused this warning is on line 389 of the file c:\\Users\\jws10y\\AppData\\Local\\anaconda3\\envs\\tensorflow-gpu\\lib\\site-packages\\wikipedia\\wikipedia.py. To get rid of this warning, pass the additional argument 'features=\"html.parser\"' to the BeautifulSoup constructor.\n",
      "\n",
      "  lis = BeautifulSoup(html).find_all('li')\n"
     ]
    },
    {
     "ename": "DisambiguationError",
     "evalue": "\"tall\" may refer to: \nheight\nhuman height\nTall, Semnan\nRiver Tall\nTall: The American Skyscraper and Louis Sullivan\nMr. Tall\nTall (surname)\nTell (archaeology)\nList of people known as the Tall\nTAL (disambiguation)\nTell (disambiguation)\nAll pages with titles beginning with tall\nAll pages with titles beginning with tallest\nAll pages with titles containing tall",
     "output_type": "error",
     "traceback": [
      "\u001b[1;31m---------------------------------------------------------------------------\u001b[0m",
      "\u001b[1;31mDisambiguationError\u001b[0m                       Traceback (most recent call last)",
      "Cell \u001b[1;32mIn[19], line 2\u001b[0m\n\u001b[0;32m      1\u001b[0m \u001b[38;5;66;03m# and lets look at where disambiguation pages land\u001b[39;00m\n\u001b[1;32m----> 2\u001b[0m hull \u001b[38;5;241m=\u001b[39m \u001b[43mwikipedia\u001b[49m\u001b[38;5;241;43m.\u001b[39;49m\u001b[43mpage\u001b[49m\u001b[43m(\u001b[49m\u001b[38;5;124;43m'\u001b[39;49m\u001b[38;5;124;43mHull\u001b[39;49m\u001b[38;5;124;43m'\u001b[39;49m\u001b[43m)\u001b[49m\n\u001b[0;32m      3\u001b[0m hull\u001b[38;5;241m.\u001b[39mcategories\n",
      "File \u001b[1;32mc:\\Users\\jws10y\\AppData\\Local\\anaconda3\\envs\\tensorflow-gpu\\lib\\site-packages\\wikipedia\\wikipedia.py:276\u001b[0m, in \u001b[0;36mpage\u001b[1;34m(title, pageid, auto_suggest, redirect, preload)\u001b[0m\n\u001b[0;32m    273\u001b[0m     \u001b[38;5;28;01mexcept\u001b[39;00m \u001b[38;5;167;01mIndexError\u001b[39;00m:\n\u001b[0;32m    274\u001b[0m       \u001b[38;5;66;03m# if there is no suggestion or search results, the page doesn't exist\u001b[39;00m\n\u001b[0;32m    275\u001b[0m       \u001b[38;5;28;01mraise\u001b[39;00m PageError(title)\n\u001b[1;32m--> 276\u001b[0m   \u001b[38;5;28;01mreturn\u001b[39;00m \u001b[43mWikipediaPage\u001b[49m\u001b[43m(\u001b[49m\u001b[43mtitle\u001b[49m\u001b[43m,\u001b[49m\u001b[43m \u001b[49m\u001b[43mredirect\u001b[49m\u001b[38;5;241;43m=\u001b[39;49m\u001b[43mredirect\u001b[49m\u001b[43m,\u001b[49m\u001b[43m \u001b[49m\u001b[43mpreload\u001b[49m\u001b[38;5;241;43m=\u001b[39;49m\u001b[43mpreload\u001b[49m\u001b[43m)\u001b[49m\n\u001b[0;32m    277\u001b[0m \u001b[38;5;28;01melif\u001b[39;00m pageid \u001b[38;5;129;01mis\u001b[39;00m \u001b[38;5;129;01mnot\u001b[39;00m \u001b[38;5;28;01mNone\u001b[39;00m:\n\u001b[0;32m    278\u001b[0m   \u001b[38;5;28;01mreturn\u001b[39;00m WikipediaPage(pageid\u001b[38;5;241m=\u001b[39mpageid, preload\u001b[38;5;241m=\u001b[39mpreload)\n",
      "File \u001b[1;32mc:\\Users\\jws10y\\AppData\\Local\\anaconda3\\envs\\tensorflow-gpu\\lib\\site-packages\\wikipedia\\wikipedia.py:299\u001b[0m, in \u001b[0;36mWikipediaPage.__init__\u001b[1;34m(self, title, pageid, redirect, preload, original_title)\u001b[0m\n\u001b[0;32m    296\u001b[0m \u001b[38;5;28;01melse\u001b[39;00m:\n\u001b[0;32m    297\u001b[0m   \u001b[38;5;28;01mraise\u001b[39;00m \u001b[38;5;167;01mValueError\u001b[39;00m(\u001b[38;5;124m\"\u001b[39m\u001b[38;5;124mEither a title or a pageid must be specified\u001b[39m\u001b[38;5;124m\"\u001b[39m)\n\u001b[1;32m--> 299\u001b[0m \u001b[38;5;28;43mself\u001b[39;49m\u001b[38;5;241;43m.\u001b[39;49m\u001b[43m__load\u001b[49m\u001b[43m(\u001b[49m\u001b[43mredirect\u001b[49m\u001b[38;5;241;43m=\u001b[39;49m\u001b[43mredirect\u001b[49m\u001b[43m,\u001b[49m\u001b[43m \u001b[49m\u001b[43mpreload\u001b[49m\u001b[38;5;241;43m=\u001b[39;49m\u001b[43mpreload\u001b[49m\u001b[43m)\u001b[49m\n\u001b[0;32m    301\u001b[0m \u001b[38;5;28;01mif\u001b[39;00m preload:\n\u001b[0;32m    302\u001b[0m   \u001b[38;5;28;01mfor\u001b[39;00m prop \u001b[38;5;129;01min\u001b[39;00m (\u001b[38;5;124m'\u001b[39m\u001b[38;5;124mcontent\u001b[39m\u001b[38;5;124m'\u001b[39m, \u001b[38;5;124m'\u001b[39m\u001b[38;5;124msummary\u001b[39m\u001b[38;5;124m'\u001b[39m, \u001b[38;5;124m'\u001b[39m\u001b[38;5;124mimages\u001b[39m\u001b[38;5;124m'\u001b[39m, \u001b[38;5;124m'\u001b[39m\u001b[38;5;124mreferences\u001b[39m\u001b[38;5;124m'\u001b[39m, \u001b[38;5;124m'\u001b[39m\u001b[38;5;124mlinks\u001b[39m\u001b[38;5;124m'\u001b[39m, \u001b[38;5;124m'\u001b[39m\u001b[38;5;124msections\u001b[39m\u001b[38;5;124m'\u001b[39m):\n",
      "File \u001b[1;32mc:\\Users\\jws10y\\AppData\\Local\\anaconda3\\envs\\tensorflow-gpu\\lib\\site-packages\\wikipedia\\wikipedia.py:393\u001b[0m, in \u001b[0;36mWikipediaPage.__load\u001b[1;34m(self, redirect, preload)\u001b[0m\n\u001b[0;32m    390\u001b[0m   filtered_lis \u001b[38;5;241m=\u001b[39m [li \u001b[38;5;28;01mfor\u001b[39;00m li \u001b[38;5;129;01min\u001b[39;00m lis \u001b[38;5;28;01mif\u001b[39;00m \u001b[38;5;129;01mnot\u001b[39;00m \u001b[38;5;124m'\u001b[39m\u001b[38;5;124mtocsection\u001b[39m\u001b[38;5;124m'\u001b[39m \u001b[38;5;129;01min\u001b[39;00m \u001b[38;5;124m'\u001b[39m\u001b[38;5;124m'\u001b[39m\u001b[38;5;241m.\u001b[39mjoin(li\u001b[38;5;241m.\u001b[39mget(\u001b[38;5;124m'\u001b[39m\u001b[38;5;124mclass\u001b[39m\u001b[38;5;124m'\u001b[39m, []))]\n\u001b[0;32m    391\u001b[0m   may_refer_to \u001b[38;5;241m=\u001b[39m [li\u001b[38;5;241m.\u001b[39ma\u001b[38;5;241m.\u001b[39mget_text() \u001b[38;5;28;01mfor\u001b[39;00m li \u001b[38;5;129;01min\u001b[39;00m filtered_lis \u001b[38;5;28;01mif\u001b[39;00m li\u001b[38;5;241m.\u001b[39ma]\n\u001b[1;32m--> 393\u001b[0m   \u001b[38;5;28;01mraise\u001b[39;00m DisambiguationError(\u001b[38;5;28mgetattr\u001b[39m(\u001b[38;5;28mself\u001b[39m, \u001b[38;5;124m'\u001b[39m\u001b[38;5;124mtitle\u001b[39m\u001b[38;5;124m'\u001b[39m, page[\u001b[38;5;124m'\u001b[39m\u001b[38;5;124mtitle\u001b[39m\u001b[38;5;124m'\u001b[39m]), may_refer_to)\n\u001b[0;32m    395\u001b[0m \u001b[38;5;28;01melse\u001b[39;00m:\n\u001b[0;32m    396\u001b[0m   \u001b[38;5;28mself\u001b[39m\u001b[38;5;241m.\u001b[39mpageid \u001b[38;5;241m=\u001b[39m pageid\n",
      "\u001b[1;31mDisambiguationError\u001b[0m: \"tall\" may refer to: \nheight\nhuman height\nTall, Semnan\nRiver Tall\nTall: The American Skyscraper and Louis Sullivan\nMr. Tall\nTall (surname)\nTell (archaeology)\nList of people known as the Tall\nTAL (disambiguation)\nTell (disambiguation)\nAll pages with titles beginning with tall\nAll pages with titles beginning with tallest\nAll pages with titles containing tall"
     ]
    }
   ],
   "source": [
    "# and lets look at where disambiguation pages land\n",
    "hull = wikipedia.page('Hull')\n",
    "hull.categories"
   ]
  },
  {
   "cell_type": "code",
   "execution_count": 20,
   "metadata": {},
   "outputs": [],
   "source": [
    "# all disambiguation pages lead to a page error, lets catch that \n",
    "def disamb_check(query):\n",
    "    try:\n",
    "        wikipedia.WikipediaPage(query)\n",
    "        return False\n",
    "    except (wikipedia.DisambiguationError, wikipedia.PageError):\n",
    "        return True\n"
   ]
  },
  {
   "cell_type": "code",
   "execution_count": 21,
   "metadata": {},
   "outputs": [
    {
     "data": {
      "text/plain": [
       "True"
      ]
     },
     "execution_count": 21,
     "metadata": {},
     "output_type": "execute_result"
    }
   ],
   "source": [
    "check = disamb_check('hull')\n",
    "check"
   ]
  },
  {
   "cell_type": "code",
   "execution_count": 22,
   "metadata": {},
   "outputs": [
    {
     "data": {
      "text/plain": [
       "False"
      ]
     },
     "execution_count": 22,
     "metadata": {},
     "output_type": "execute_result"
    }
   ],
   "source": [
    "check = disamb_check('glasgow')\n",
    "check"
   ]
  },
  {
   "cell_type": "markdown",
   "metadata": {},
   "source": [
    "We will also need a way to check that the found page refers to a city and not to something else. Unfortunately the wikipedia 'Location' category is not applied consistently enough to be suitable for this. Rather, we'll use a slightly hacky approach in which either use the coordinates provided on the iwkipedis page (if available), or other look for words related to locations within the first two sentences of the page.\n"
   ]
  },
  {
   "cell_type": "code",
   "execution_count": 23,
   "metadata": {},
   "outputs": [],
   "source": [
    "# first we should check if the coordinates are roughly correct\n",
    "def check_coordinates(page, true_coords, threshold=10):\n",
    "    if not page.coordinates:\n",
    "        return False\n",
    "    wiki_coords = page.coordinates\n",
    "    d = distance(true_coords, wiki_coords).km\n",
    "    return d <= threshold\n",
    "    \n",
    "    "
   ]
  },
  {
   "cell_type": "code",
   "execution_count": 26,
   "metadata": {},
   "outputs": [
    {
     "data": {
      "text/plain": [
       "False"
      ]
     },
     "execution_count": 26,
     "metadata": {},
     "output_type": "execute_result"
    }
   ],
   "source": [
    "# Lets test it with the coordinates for Birmingham Alabama\n",
    "page = wikipedia.WikipediaPage('Birmingham')\n",
    "true_coords = (33.52066, -86.80249)\n",
    "\n",
    "check_coordinates(page, true_coords)"
   ]
  },
  {
   "cell_type": "code",
   "execution_count": 27,
   "metadata": {},
   "outputs": [
    {
     "data": {
      "text/plain": [
       "True"
      ]
     },
     "execution_count": 27,
     "metadata": {},
     "output_type": "execute_result"
    }
   ],
   "source": [
    "page = wikipedia.WikipediaPage('Birmingham, AL')\n",
    "true_coords = (33.52066, -86.80249)\n",
    "\n",
    "check_coordinates(page, true_coords)"
   ]
  },
  {
   "cell_type": "code",
   "execution_count": 43,
   "metadata": {},
   "outputs": [],
   "source": [
    "# looking for words related to cities in the first sentence (usually X is a city in Y)\n",
    "city_words = ['city', 'town', 'village', 'township', 'commune', 'community', 'settlement', 'district', 'municipality', 'metropolis', 'conurbation']\n",
    "\n",
    "def check_is_city(page):\n",
    "    sentences = page.summary.split('.')\n",
    "    out = False\n",
    "    for word in city_words:\n",
    "        if word in sentences[0].lower():\n",
    "            out = True\n",
    "    return out"
   ]
  },
  {
   "cell_type": "code",
   "execution_count": 47,
   "metadata": {},
   "outputs": [],
   "source": [
    "# Looking for mentions of the country the city is situated in\n",
    "def check_correct_country(page, country):\n",
    "    sentences = page.summary.split('.')\n",
    "    for sentence in sentences[:3]:\n",
    "        if country in sentence:\n",
    "            return True\n",
    "    return False"
   ]
  },
  {
   "cell_type": "code",
   "execution_count": 48,
   "metadata": {},
   "outputs": [
    {
     "data": {
      "text/plain": [
       "False"
      ]
     },
     "execution_count": 48,
     "metadata": {},
     "output_type": "execute_result"
    }
   ],
   "source": [
    "# lets test this by looking for Paradise, California\n",
    "page = wikipedia.WikipediaPage('paradise')\n",
    "\n",
    "check_is_city(page)"
   ]
  },
  {
   "cell_type": "code",
   "execution_count": 49,
   "metadata": {},
   "outputs": [
    {
     "data": {
      "text/plain": [
       "True"
      ]
     },
     "execution_count": 49,
     "metadata": {},
     "output_type": "execute_result"
    }
   ],
   "source": [
    "page = wikipedia.WikipediaPage('paradise (California)')\n",
    "\n",
    "check_is_city(page)"
   ]
  },
  {
   "cell_type": "code",
   "execution_count": 55,
   "metadata": {},
   "outputs": [],
   "source": [
    "# And we need a check to see if the page exists at all.\n",
    "def check_page_exists(query):\n",
    "    try:\n",
    "        wikipedia.WikipediaPage(query)\n",
    "        return True\n",
    "    except wikipedia.PageError:\n",
    "        return False"
   ]
  },
  {
   "cell_type": "markdown",
   "metadata": {},
   "source": [
    "Some of the wikipedia summaries are formatted so that line breaks can appear as `<word>.<word>` in the summary. We need to put in a space after the period when this occurs"
   ]
  },
  {
   "cell_type": "code",
   "execution_count": 56,
   "metadata": {},
   "outputs": [],
   "source": [
    "def add_space_after_period(text):\n",
    "    pattern = r'([A-Za-z])\\.([A-Za-z])'\n",
    "    replacement = r'\\1. \\2'\n",
    "    result = re.sub(pattern, replacement, text)\n",
    "    return result"
   ]
  },
  {
   "cell_type": "markdown",
   "metadata": {},
   "source": [
    "finally, we'll need a function which can split a piece of text into full sentences, up to the `max_len` value in the model."
   ]
  },
  {
   "cell_type": "code",
   "execution_count": 57,
   "metadata": {},
   "outputs": [
    {
     "name": "stderr",
     "output_type": "stream",
     "text": [
      "[nltk_data] Downloading package punkt to\n",
      "[nltk_data]     C:\\Users\\jws10y\\AppData\\Roaming\\nltk_data...\n",
      "[nltk_data]   Package punkt is already up-to-date!\n"
     ]
    }
   ],
   "source": [
    "import nltk\n",
    "nltk.download('punkt')\n",
    "\n",
    "def split_into_sentences(text, max_words=60):\n",
    "    sentences = nltk.sent_tokenize(text)\n",
    "    result = []\n",
    "    current_sentence = \"\"\n",
    "\n",
    "    for sentence in sentences:\n",
    "        if len(current_sentence.split()) + len(sentence.split()) <= max_words:\n",
    "            current_sentence += \" \" + sentence\n",
    "        else:\n",
    "            result.append(current_sentence.strip())\n",
    "            current_sentence = sentence\n",
    "\n",
    "    # Add the last substring\n",
    "    if current_sentence:\n",
    "        result.append(current_sentence.strip())\n",
    "\n",
    "    return result"
   ]
  },
  {
   "cell_type": "code",
   "execution_count": 58,
   "metadata": {},
   "outputs": [
    {
     "data": {
      "text/plain": [
       "['Glasgow (UK:  GLA(H)Z-goh, GLA(H)SS-; Scots: Glesca [ˈɡleskə] or Glesga [ˈɡlezɡə]; Scottish Gaelic: Glaschu [ˈkl̪ˠas̪əxu]) is the most populous city in Scotland, and is the third-most populous city in the United Kingdom, as well as being the 27th largest city by population in Europe.',\n",
       " 'In 2022, it had an estimated population as a defined locality of \\n632,350 and anchored an urban settlement of \\n1,028,220. Formed as a county of itself in 1893, the city had previously been in the historic county of Lanarkshire (or Clydesdale) and has also grown to include settlements that were once part of Renfrewshire and Dunbartonshire (or the Lennox).',\n",
       " 'It now forms the Glasgow City Council area, one of the 32 council areas of Scotland, and is administered by Glasgow City Council. Glasgow has the largest economy in Scotland and the third-highest GDP per capita of any city in the UK.',\n",
       " \"Glasgow's major cultural institutions enjoy international reputations including The Royal Conservatoire of Scotland, Burrell Collection, Kelvingrove Art Gallery and Museum, Royal Scottish National Orchestra, BBC Scottish Symphony Orchestra, Scottish Ballet and Scottish Opera. The city was the European Capital of Culture in 1990 and is notable for its architecture, culture, media, music scene, sports clubs and transport connections.\",\n",
       " 'It is the fifth-most visited city in the United Kingdom. The city hosted the 2021 United Nations Climate Change Conference (COP26) at its main events venue, the SEC Centre. Glasgow hosted the 2014 Commonwealth Games and the first European Championships in 2018, and was one of the host cities for UEFA Euro 2020.',\n",
       " 'The city is also well known in the sporting world for football, particularly for the Old Firm rivalry. Glasgow grew from a small rural settlement close to Glasgow Cathedral and descending to the River Clyde to become the largest seaport in Scotland, and tenth largest by tonnage in Britain.',\n",
       " 'Expanding from the medieval bishopric and episcopal burgh (subsequently royal burgh), and the later establishment of the University of Glasgow in the 15th century, it became a major centre of the Scottish Enlightenment in the 18th century.',\n",
       " \"From the 18th century onwards, the city also grew as one of Britain's main hubs of oceanic trade with North America and the West Indies; soon followed by the Orient, India, and China.\",\n",
       " \"With the onset of the Industrial Revolution, the population and economy of Glasgow and the surrounding region expanded rapidly to become one of the world's pre-eminent centres of chemicals, textiles and engineering; most notably in the shipbuilding and marine engineering industry, which produced many innovative and famous vessels.\",\n",
       " 'Glasgow was the \"Second City of the British Empire\" for much of the Victorian and Edwardian eras.In the late 19th and early 20th centuries, Glasgow\\'s population grew rapidly, reaching a peak of 1,127,825 people in 1938 (with a higher density and within a smaller territory than in subsequent decades).',\n",
       " 'The population was greatly reduced following comprehensive urban renewal projects in the 1960s which resulted in large-scale relocation of people to designated new towns, such as Cumbernauld, Livingston, East Kilbride and peripheral suburbs, followed by successive boundary changes.',\n",
       " \"Over 1,000,000 people live in the Greater Glasgow contiguous urban area, while the wider Glasgow City Region is home to over 1,800,000 people, equating to around 33% of Scotland's population. The city has one of the highest densities of any locality in Scotland at 4,023/km2.\"]"
      ]
     },
     "execution_count": 58,
     "metadata": {},
     "output_type": "execute_result"
    }
   ],
   "source": [
    "sentences = split_into_sentences(glasgow.summary)\n",
    "sentences"
   ]
  },
  {
   "cell_type": "code",
   "execution_count": 59,
   "metadata": {},
   "outputs": [],
   "source": [
    "# This function draws together each of the page processing functions. \n",
    "def process_page(page):\n",
    "    raw_summary = page.summary\n",
    "    p1_summary = remove_parentheses(raw_summary)\n",
    "    p2_summary = add_space_after_period(p1_summary)\n",
    "    sentences = split_into_sentences(p2_summary, 70)\n",
    "    return sentences"
   ]
  },
  {
   "cell_type": "markdown",
   "metadata": {},
   "source": [
    " We now have all the funcitons we need to scrape Wikpedia for the locations in the dataset. This takes a long time and can run into problems if an internet connection drops out. It took around 5 hours to complete for me."
   ]
  },
  {
   "cell_type": "code",
   "execution_count": null,
   "metadata": {},
   "outputs": [],
   "source": [
    "# we can now loop over each of our cities and find the wikipedia page associated with each\n",
    "rows = []\n",
    "for idx, row in tqdm(poly_cities.iterrows(), total = len(poly_cities)):\n",
    "    location = row.city_ascii\n",
    "    state = row['Admin1 Code']\n",
    "    country = row.country\n",
    "    coords = (row.lat, row.lng)\n",
    "    \n",
    "    # check for disambiguation and add state/country if disamb reached\n",
    "    if disamb_check(location):\n",
    "        # pages for US locations work better if you add the state\n",
    "        if country == 'United States':\n",
    "            location += f' ({state})'\n",
    "        else:\n",
    "            location += f' ({country})'\n",
    "        # if the new location doesn't have a page then skip\n",
    "        if disamb_check(location):\n",
    "            continue\n",
    "    \n",
    "    ## check a page exists related to that location\n",
    "    if not check_page_exists(location):\n",
    "        continue\n",
    "    \n",
    "    # retrieve page\n",
    "    page = wikipedia.WikipediaPage(location)\n",
    "    # check if the page has coordinates:\n",
    "    try:\n",
    "        page.coordinates\n",
    "        has_coords = True\n",
    "    except KeyError:\n",
    "        has_coords = False\n",
    "        correct_coords = False\n",
    "    # check the coordinates match\n",
    "    if (has_coords) and not (check_coordinates(page, coords)):\n",
    "        if country == 'united_states':\n",
    "            location += state\n",
    "        else:\n",
    "            location += f'({country})'\n",
    "        # check a page exists, skip otherwise\n",
    "        if check_page_exists(location):  \n",
    "            page = wikipedia.page(location)\n",
    "            correct_coords = False\n",
    "            # check again with the new page, if still a miss then skip\n",
    "            if not check_coordinates(page, coords):\n",
    "                continue\n",
    "        else:\n",
    "            continue\n",
    "\n",
    "    elif (has_coords) and (check_coordinates(page, coords)):\n",
    "        correct_coords = True\n",
    "        \n",
    "    # check country is correct\n",
    "    if not (correct_coords) and not (check_correct_country(page, country)):\n",
    "        location += f'({country})'\n",
    "        # check a page exists, skip otherwise\n",
    "        if check_page_exists(location):  \n",
    "            page = wikipedia.page(location)\n",
    "        else:\n",
    "            continue\n",
    "    \n",
    "    # check this is a page for a city\n",
    "    if not (correct_coords) and not (check_is_city(page)):\n",
    "        continue \n",
    "    \n",
    "    # If it gets this far then the wikipedia page is confirmed as the correct one! \n",
    "    sentences = process_page(page)\n",
    "    for sentence in sentences:\n",
    "        row = {}\n",
    "        row['city'] = location\n",
    "        row['country'] = country\n",
    "        row['coordinates'] = coords\n",
    "        row['text'] = sentence\n",
    "        rows.append(row)\n",
    "        \n",
    "processed_wiki_cities = pd.DataFrame(rows)\n",
    "        \n",
    "processed_wiki_cities.to_csv('../data/NB2/wiki_cities_reference.csv', index=False)    "
   ]
  },
  {
   "cell_type": "markdown",
   "metadata": {},
   "source": [
    "## 2.3 Adding US Counties\n",
    "The current dataset is made mostly of towns and cities. As such, there is likely to be limited representation of [CHI] tags in the data. We will address this by adding US counties dataset. Once agian, we need to process these to ensure they can be associated to an OSM polygon and a valid Wikipedia page. This takes a couple of hours to run."
   ]
  },
  {
   "cell_type": "code",
   "execution_count": 72,
   "metadata": {},
   "outputs": [],
   "source": [
    "us_counties = pd.read_csv('../data/NB2/us_counties.csv', encoding='latin')\n",
    "us_counties.head()\n",
    "\n",
    "clean_latitude = lambda lat : float(lat[1:-1])\n",
    "clean_longitude = lambda lng : -float(lng[1:-1])\n",
    "\n",
    "us_counties['Latitude'] = us_counties['Latitude'].apply(clean_latitude)\n",
    "us_counties['Longitude'] = us_counties['Longitude'].apply(clean_longitude)\n",
    "us_counties = us_counties.rename(columns={'County [2]':'County'})"
   ]
  },
  {
   "cell_type": "code",
   "execution_count": 73,
   "metadata": {},
   "outputs": [
    {
     "data": {
      "text/html": [
       "<div>\n",
       "<style scoped>\n",
       "    .dataframe tbody tr th:only-of-type {\n",
       "        vertical-align: middle;\n",
       "    }\n",
       "\n",
       "    .dataframe tbody tr th {\n",
       "        vertical-align: top;\n",
       "    }\n",
       "\n",
       "    .dataframe thead th {\n",
       "        text-align: right;\n",
       "    }\n",
       "</style>\n",
       "<table border=\"1\" class=\"dataframe\">\n",
       "  <thead>\n",
       "    <tr style=\"text-align: right;\">\n",
       "      <th></th>\n",
       "      <th>Sort [1]</th>\n",
       "      <th>State</th>\n",
       "      <th>FIPS</th>\n",
       "      <th>County</th>\n",
       "      <th>County Seat(s) [3]</th>\n",
       "      <th>Population</th>\n",
       "      <th>Land Area</th>\n",
       "      <th>Land Area.1</th>\n",
       "      <th>Water Area</th>\n",
       "      <th>Water Area.1</th>\n",
       "      <th>Total Area</th>\n",
       "      <th>Total Area.1</th>\n",
       "      <th>Latitude</th>\n",
       "      <th>Longitude</th>\n",
       "    </tr>\n",
       "  </thead>\n",
       "  <tbody>\n",
       "    <tr>\n",
       "      <th>0</th>\n",
       "      <td>1</td>\n",
       "      <td>AL</td>\n",
       "      <td>1001</td>\n",
       "      <td>Autauga</td>\n",
       "      <td>Prattville</td>\n",
       "      <td>54,571</td>\n",
       "      <td>1,539.58</td>\n",
       "      <td>594.436</td>\n",
       "      <td>25.776</td>\n",
       "      <td>9.952</td>\n",
       "      <td>1,565.36</td>\n",
       "      <td>604.388</td>\n",
       "      <td>32.536382</td>\n",
       "      <td>-86.644490</td>\n",
       "    </tr>\n",
       "    <tr>\n",
       "      <th>1</th>\n",
       "      <td>2</td>\n",
       "      <td>AL</td>\n",
       "      <td>1003</td>\n",
       "      <td>Baldwin</td>\n",
       "      <td>Bay Minette</td>\n",
       "      <td>182,265</td>\n",
       "      <td>4,117.52</td>\n",
       "      <td>1,589.78</td>\n",
       "      <td>1,133.19</td>\n",
       "      <td>437.527</td>\n",
       "      <td>5,250.71</td>\n",
       "      <td>2,027.31</td>\n",
       "      <td>30.659218</td>\n",
       "      <td>-87.746067</td>\n",
       "    </tr>\n",
       "    <tr>\n",
       "      <th>2</th>\n",
       "      <td>3</td>\n",
       "      <td>AL</td>\n",
       "      <td>1005</td>\n",
       "      <td>Barbour</td>\n",
       "      <td>Clayton</td>\n",
       "      <td>27,457</td>\n",
       "      <td>2,291.82</td>\n",
       "      <td>884.876</td>\n",
       "      <td>50.865</td>\n",
       "      <td>19.639</td>\n",
       "      <td>2,342.68</td>\n",
       "      <td>904.515</td>\n",
       "      <td>31.870670</td>\n",
       "      <td>-85.405456</td>\n",
       "    </tr>\n",
       "    <tr>\n",
       "      <th>3</th>\n",
       "      <td>4</td>\n",
       "      <td>AL</td>\n",
       "      <td>1007</td>\n",
       "      <td>Bibb</td>\n",
       "      <td>Centreville</td>\n",
       "      <td>22,915</td>\n",
       "      <td>1,612.48</td>\n",
       "      <td>622.582</td>\n",
       "      <td>9.289</td>\n",
       "      <td>3.587</td>\n",
       "      <td>1,621.77</td>\n",
       "      <td>626.169</td>\n",
       "      <td>33.015893</td>\n",
       "      <td>-87.127148</td>\n",
       "    </tr>\n",
       "    <tr>\n",
       "      <th>4</th>\n",
       "      <td>5</td>\n",
       "      <td>AL</td>\n",
       "      <td>1009</td>\n",
       "      <td>Blount</td>\n",
       "      <td>Oneonta</td>\n",
       "      <td>57,322</td>\n",
       "      <td>1,669.96</td>\n",
       "      <td>644.776</td>\n",
       "      <td>15.157</td>\n",
       "      <td>5.852</td>\n",
       "      <td>1,685.12</td>\n",
       "      <td>650.628</td>\n",
       "      <td>33.977448</td>\n",
       "      <td>-86.567246</td>\n",
       "    </tr>\n",
       "    <tr>\n",
       "      <th>...</th>\n",
       "      <td>...</td>\n",
       "      <td>...</td>\n",
       "      <td>...</td>\n",
       "      <td>...</td>\n",
       "      <td>...</td>\n",
       "      <td>...</td>\n",
       "      <td>...</td>\n",
       "      <td>...</td>\n",
       "      <td>...</td>\n",
       "      <td>...</td>\n",
       "      <td>...</td>\n",
       "      <td>...</td>\n",
       "      <td>...</td>\n",
       "      <td>...</td>\n",
       "    </tr>\n",
       "    <tr>\n",
       "      <th>3138</th>\n",
       "      <td>3139</td>\n",
       "      <td>WY</td>\n",
       "      <td>56037</td>\n",
       "      <td>Sweetwater</td>\n",
       "      <td>Green River</td>\n",
       "      <td>43,806</td>\n",
       "      <td>27,004.90</td>\n",
       "      <td>10,426.65</td>\n",
       "      <td>166.887</td>\n",
       "      <td>64.436</td>\n",
       "      <td>27,171.78</td>\n",
       "      <td>10,491.09</td>\n",
       "      <td>41.660339</td>\n",
       "      <td>-108.875676</td>\n",
       "    </tr>\n",
       "    <tr>\n",
       "      <th>3139</th>\n",
       "      <td>3140</td>\n",
       "      <td>WY</td>\n",
       "      <td>56039</td>\n",
       "      <td>Teton</td>\n",
       "      <td>Jackson</td>\n",
       "      <td>21,294</td>\n",
       "      <td>10,347.98</td>\n",
       "      <td>3,995.38</td>\n",
       "      <td>572.266</td>\n",
       "      <td>220.953</td>\n",
       "      <td>10,920.25</td>\n",
       "      <td>4,216.33</td>\n",
       "      <td>44.049321</td>\n",
       "      <td>-110.588102</td>\n",
       "    </tr>\n",
       "    <tr>\n",
       "      <th>3140</th>\n",
       "      <td>3141</td>\n",
       "      <td>WY</td>\n",
       "      <td>56041</td>\n",
       "      <td>Uinta</td>\n",
       "      <td>Evanston</td>\n",
       "      <td>21,118</td>\n",
       "      <td>5,390.45</td>\n",
       "      <td>2,081.26</td>\n",
       "      <td>16.342</td>\n",
       "      <td>6.31</td>\n",
       "      <td>5,406.79</td>\n",
       "      <td>2,087.57</td>\n",
       "      <td>41.284726</td>\n",
       "      <td>-110.558947</td>\n",
       "    </tr>\n",
       "    <tr>\n",
       "      <th>3141</th>\n",
       "      <td>3142</td>\n",
       "      <td>WY</td>\n",
       "      <td>56043</td>\n",
       "      <td>Washakie</td>\n",
       "      <td>Worland</td>\n",
       "      <td>8,533</td>\n",
       "      <td>5,797.82</td>\n",
       "      <td>2,238.55</td>\n",
       "      <td>10.762</td>\n",
       "      <td>4.155</td>\n",
       "      <td>5,808.58</td>\n",
       "      <td>2,242.70</td>\n",
       "      <td>43.878831</td>\n",
       "      <td>-107.669052</td>\n",
       "    </tr>\n",
       "    <tr>\n",
       "      <th>3142</th>\n",
       "      <td>3143</td>\n",
       "      <td>WY</td>\n",
       "      <td>56045</td>\n",
       "      <td>Weston</td>\n",
       "      <td>Newcastle</td>\n",
       "      <td>7,208</td>\n",
       "      <td>6,211.02</td>\n",
       "      <td>2,398.09</td>\n",
       "      <td>5.002</td>\n",
       "      <td>1.931</td>\n",
       "      <td>6,216.02</td>\n",
       "      <td>2,400.02</td>\n",
       "      <td>43.846213</td>\n",
       "      <td>-104.570020</td>\n",
       "    </tr>\n",
       "  </tbody>\n",
       "</table>\n",
       "<p>3143 rows × 14 columns</p>\n",
       "</div>"
      ],
      "text/plain": [
       "      Sort [1] State   FIPS      County County Seat(s) [3] Population  \\\n",
       "0            1    AL   1001     Autauga         Prattville     54,571   \n",
       "1            2    AL   1003     Baldwin        Bay Minette    182,265   \n",
       "2            3    AL   1005     Barbour            Clayton     27,457   \n",
       "3            4    AL   1007        Bibb        Centreville     22,915   \n",
       "4            5    AL   1009      Blount            Oneonta     57,322   \n",
       "...        ...   ...    ...         ...                ...        ...   \n",
       "3138      3139    WY  56037  Sweetwater        Green River     43,806   \n",
       "3139      3140    WY  56039       Teton            Jackson     21,294   \n",
       "3140      3141    WY  56041       Uinta           Evanston     21,118   \n",
       "3141      3142    WY  56043    Washakie            Worland      8,533   \n",
       "3142      3143    WY  56045      Weston          Newcastle      7,208   \n",
       "\n",
       "      Land Area Land Area.1 Water Area Water Area.1 Total Area Total Area.1  \\\n",
       "0      1,539.58     594.436     25.776        9.952   1,565.36      604.388   \n",
       "1      4,117.52    1,589.78   1,133.19      437.527   5,250.71     2,027.31   \n",
       "2      2,291.82     884.876     50.865       19.639   2,342.68      904.515   \n",
       "3      1,612.48     622.582      9.289        3.587   1,621.77      626.169   \n",
       "4      1,669.96     644.776     15.157        5.852   1,685.12      650.628   \n",
       "...         ...         ...        ...          ...        ...          ...   \n",
       "3138  27,004.90   10,426.65    166.887       64.436  27,171.78    10,491.09   \n",
       "3139  10,347.98    3,995.38    572.266      220.953  10,920.25     4,216.33   \n",
       "3140   5,390.45    2,081.26     16.342         6.31   5,406.79     2,087.57   \n",
       "3141   5,797.82    2,238.55     10.762        4.155   5,808.58     2,242.70   \n",
       "3142   6,211.02    2,398.09      5.002        1.931   6,216.02     2,400.02   \n",
       "\n",
       "       Latitude   Longitude  \n",
       "0     32.536382  -86.644490  \n",
       "1     30.659218  -87.746067  \n",
       "2     31.870670  -85.405456  \n",
       "3     33.015893  -87.127148  \n",
       "4     33.977448  -86.567246  \n",
       "...         ...         ...  \n",
       "3138  41.660339 -108.875676  \n",
       "3139  44.049321 -110.588102  \n",
       "3140  41.284726 -110.558947  \n",
       "3141  43.878831 -107.669052  \n",
       "3142  43.846213 -104.570020  \n",
       "\n",
       "[3143 rows x 14 columns]"
      ]
     },
     "execution_count": 73,
     "metadata": {},
     "output_type": "execute_result"
    }
   ],
   "source": [
    "us_counties"
   ]
  },
  {
   "cell_type": "code",
   "execution_count": 74,
   "metadata": {},
   "outputs": [
    {
     "name": "stderr",
     "output_type": "stream",
     "text": [
      "  0%|          | 0/3143 [00:00<?, ?it/s]"
     ]
    },
    {
     "name": "stderr",
     "output_type": "stream",
     "text": [
      "100%|██████████| 3143/3143 [27:43<00:00,  1.89it/s] \n"
     ]
    }
   ],
   "source": [
    "from shapely.geometry import shape\n",
    "# We're again going to use the gazetteer to limit these to counties with OSM polygons\n",
    "gazetteer = Gazetteer(polygon=True, addressdetails=False)\n",
    "accepted_indices = []\n",
    "for i, county in tqdm(us_counties.iterrows(), total=len(us_counties)):\n",
    "    name = county.County\n",
    "    coords = (float(county.Longitude), float(county.Latitude))\n",
    "    state = county.State\n",
    "    try:\n",
    "        matches = gazetteer.query(name).json()\n",
    "    except TypeError:\n",
    "        continue\n",
    "    for match in matches:\n",
    "        if 'geojson' not in match.keys():\n",
    "            continue\n",
    "        if 'Polygon' not in match['geojson']['type']:\n",
    "            continue\n",
    "        if Point(coords).within(shape(match['geojson'])):\n",
    "            accepted_indices.append(i)\n",
    "            break"
   ]
  },
  {
   "cell_type": "code",
   "execution_count": 75,
   "metadata": {},
   "outputs": [],
   "source": [
    "location = 'Autauga County'\n",
    "if disamb_check(location):\n",
    "    new_location = location + f', {state}'\n",
    "    \n",
    "    # if the new location doesn't have a page then skip\n",
    "    if disamb_check(new_location):\n",
    "        print(f'\"{location}\" leads to disambiguation')"
   ]
  },
  {
   "cell_type": "code",
   "execution_count": 76,
   "metadata": {},
   "outputs": [
    {
     "data": {
      "text/plain": [
       "<WikipediaPage 'Autauga County, Alabama'>"
      ]
     },
     "execution_count": 76,
     "metadata": {},
     "output_type": "execute_result"
    }
   ],
   "source": [
    "wikipedia.WikipediaPage('Autauga County, AL')"
   ]
  },
  {
   "cell_type": "code",
   "execution_count": 77,
   "metadata": {},
   "outputs": [],
   "source": [
    "poly_counties = us_counties.loc[list(set(accepted_indices))]"
   ]
  },
  {
   "cell_type": "code",
   "execution_count": 78,
   "metadata": {},
   "outputs": [
    {
     "name": "stderr",
     "output_type": "stream",
     "text": [
      "  2%|▏         | 62/2817 [02:20<1:20:22,  1.75s/it]"
     ]
    },
    {
     "name": "stdout",
     "output_type": "stream",
     "text": [
      "Page for \"Aleutians East County, AK\" cannot be disambiguated and/or found.\n"
     ]
    },
    {
     "name": "stderr",
     "output_type": "stream",
     "text": [
      "  2%|▏         | 63/2817 [02:21<1:02:10,  1.35s/it]"
     ]
    },
    {
     "name": "stdout",
     "output_type": "stream",
     "text": [
      "Page for \"Anchorage County, AK\" cannot be disambiguated and/or found.\n"
     ]
    },
    {
     "name": "stderr",
     "output_type": "stream",
     "text": [
      "  2%|▏         | 64/2817 [02:21<49:44,  1.08s/it]  "
     ]
    },
    {
     "name": "stdout",
     "output_type": "stream",
     "text": [
      "Page for \"Bristol Bay County, AK\" cannot be disambiguated and/or found.\n"
     ]
    },
    {
     "name": "stderr",
     "output_type": "stream",
     "text": [
      "  2%|▏         | 65/2817 [02:22<40:56,  1.12it/s]"
     ]
    },
    {
     "name": "stdout",
     "output_type": "stream",
     "text": [
      "Page for \"Denali County, AK\" cannot be disambiguated and/or found.\n"
     ]
    },
    {
     "name": "stderr",
     "output_type": "stream",
     "text": [
      "  2%|▏         | 66/2817 [02:22<34:48,  1.32it/s]"
     ]
    },
    {
     "name": "stdout",
     "output_type": "stream",
     "text": [
      "Page for \"Fairbanks North Star County, AK\" cannot be disambiguated and/or found.\n"
     ]
    },
    {
     "name": "stderr",
     "output_type": "stream",
     "text": [
      "  2%|▏         | 67/2817 [02:22<30:34,  1.50it/s]"
     ]
    },
    {
     "name": "stdout",
     "output_type": "stream",
     "text": [
      "Page for \"Haines County, AK\" cannot be disambiguated and/or found.\n"
     ]
    },
    {
     "name": "stderr",
     "output_type": "stream",
     "text": [
      "  2%|▏         | 68/2817 [02:23<27:34,  1.66it/s]"
     ]
    },
    {
     "name": "stdout",
     "output_type": "stream",
     "text": [
      "Page for \"Juneau County, AK\" cannot be disambiguated and/or found.\n"
     ]
    },
    {
     "name": "stderr",
     "output_type": "stream",
     "text": [
      "  2%|▏         | 69/2817 [02:23<25:29,  1.80it/s]"
     ]
    },
    {
     "name": "stdout",
     "output_type": "stream",
     "text": [
      "Page for \"Kenai Peninsula County, AK\" cannot be disambiguated and/or found.\n"
     ]
    },
    {
     "name": "stderr",
     "output_type": "stream",
     "text": [
      "  2%|▏         | 70/2817 [02:24<23:57,  1.91it/s]"
     ]
    },
    {
     "name": "stdout",
     "output_type": "stream",
     "text": [
      "Page for \"Ketchikan Gateway County, AK\" cannot be disambiguated and/or found.\n"
     ]
    },
    {
     "name": "stderr",
     "output_type": "stream",
     "text": [
      "  3%|▎         | 71/2817 [02:24<22:58,  1.99it/s]"
     ]
    },
    {
     "name": "stdout",
     "output_type": "stream",
     "text": [
      "Page for \"Kodiak Island County, AK\" cannot be disambiguated and/or found.\n"
     ]
    },
    {
     "name": "stderr",
     "output_type": "stream",
     "text": [
      "  3%|▎         | 72/2817 [02:25<22:13,  2.06it/s]"
     ]
    },
    {
     "name": "stdout",
     "output_type": "stream",
     "text": [
      "Page for \"Lake and Peninsula County, AK\" cannot be disambiguated and/or found.\n"
     ]
    },
    {
     "name": "stderr",
     "output_type": "stream",
     "text": [
      "  3%|▎         | 73/2817 [02:25<21:32,  2.12it/s]"
     ]
    },
    {
     "name": "stdout",
     "output_type": "stream",
     "text": [
      "Page for \"Matanuska-Susitna County, AK\" cannot be disambiguated and/or found.\n"
     ]
    },
    {
     "name": "stderr",
     "output_type": "stream",
     "text": [
      "  3%|▎         | 74/2817 [02:26<21:35,  2.12it/s]"
     ]
    },
    {
     "name": "stdout",
     "output_type": "stream",
     "text": [
      "Page for \"North Slope County, AK\" cannot be disambiguated and/or found.\n"
     ]
    },
    {
     "name": "stderr",
     "output_type": "stream",
     "text": [
      "  3%|▎         | 75/2817 [02:26<21:27,  2.13it/s]"
     ]
    },
    {
     "name": "stdout",
     "output_type": "stream",
     "text": [
      "Page for \"Northwest Arctic County, AK\" cannot be disambiguated and/or found.\n"
     ]
    },
    {
     "name": "stderr",
     "output_type": "stream",
     "text": [
      "  3%|▎         | 76/2817 [02:27<20:53,  2.19it/s]"
     ]
    },
    {
     "name": "stdout",
     "output_type": "stream",
     "text": [
      "Page for \"Sitka County, AK\" cannot be disambiguated and/or found.\n"
     ]
    },
    {
     "name": "stderr",
     "output_type": "stream",
     "text": [
      "  3%|▎         | 77/2817 [02:27<21:05,  2.17it/s]"
     ]
    },
    {
     "name": "stdout",
     "output_type": "stream",
     "text": [
      "Page for \"Skagway County, AK\" cannot be disambiguated and/or found.\n"
     ]
    },
    {
     "name": "stderr",
     "output_type": "stream",
     "text": [
      "  3%|▎         | 78/2817 [02:27<21:03,  2.17it/s]"
     ]
    },
    {
     "name": "stdout",
     "output_type": "stream",
     "text": [
      "Page for \"Wrangell County, AK\" cannot be disambiguated and/or found.\n"
     ]
    },
    {
     "name": "stderr",
     "output_type": "stream",
     "text": [
      "  3%|▎         | 79/2817 [02:28<20:42,  2.20it/s]"
     ]
    },
    {
     "name": "stdout",
     "output_type": "stream",
     "text": [
      "Page for \"Yakutat County, AK\" cannot be disambiguated and/or found.\n"
     ]
    },
    {
     "name": "stderr",
     "output_type": "stream",
     "text": [
      " 18%|█▊        | 496/2817 [19:02<1:06:50,  1.73s/it]"
     ]
    },
    {
     "name": "stdout",
     "output_type": "stream",
     "text": [
      "Page for \"Hawai?i County, HI\" cannot be disambiguated and/or found.\n"
     ]
    },
    {
     "name": "stderr",
     "output_type": "stream",
     "text": [
      " 18%|█▊        | 520/2817 [19:55<1:05:48,  1.72s/it]"
     ]
    },
    {
     "name": "stdout",
     "output_type": "stream",
     "text": [
      "Page for \"Idaho County, ID\" cannot be disambiguated and/or found.\n"
     ]
    },
    {
     "name": "stderr",
     "output_type": "stream",
     "text": [
      " 36%|███▌      | 1020/2817 [38:59<52:43,  1.76s/it]  "
     ]
    },
    {
     "name": "stdout",
     "output_type": "stream",
     "text": [
      "Page for \"Acadia County, LA\" cannot be disambiguated and/or found.\n"
     ]
    },
    {
     "name": "stderr",
     "output_type": "stream",
     "text": [
      " 36%|███▌      | 1021/2817 [38:59<40:49,  1.36s/it]"
     ]
    },
    {
     "name": "stdout",
     "output_type": "stream",
     "text": [
      "Page for \"Allen County, LA\" cannot be disambiguated and/or found.\n"
     ]
    },
    {
     "name": "stderr",
     "output_type": "stream",
     "text": [
      " 36%|███▋      | 1022/2817 [39:00<32:41,  1.09s/it]"
     ]
    },
    {
     "name": "stdout",
     "output_type": "stream",
     "text": [
      "Page for \"Ascension County, LA\" cannot be disambiguated and/or found.\n"
     ]
    },
    {
     "name": "stderr",
     "output_type": "stream",
     "text": [
      " 36%|███▋      | 1023/2817 [39:00<26:49,  1.11it/s]"
     ]
    },
    {
     "name": "stdout",
     "output_type": "stream",
     "text": [
      "Page for \"Assumption County, LA\" cannot be disambiguated and/or found.\n"
     ]
    },
    {
     "name": "stderr",
     "output_type": "stream",
     "text": [
      " 36%|███▋      | 1024/2817 [39:00<22:44,  1.31it/s]"
     ]
    },
    {
     "name": "stdout",
     "output_type": "stream",
     "text": [
      "Page for \"Avoyelles County, LA\" cannot be disambiguated and/or found.\n"
     ]
    },
    {
     "name": "stderr",
     "output_type": "stream",
     "text": [
      " 36%|███▋      | 1025/2817 [39:01<19:59,  1.49it/s]"
     ]
    },
    {
     "name": "stdout",
     "output_type": "stream",
     "text": [
      "Page for \"Beauregard County, LA\" cannot be disambiguated and/or found.\n"
     ]
    },
    {
     "name": "stderr",
     "output_type": "stream",
     "text": [
      " 36%|███▋      | 1026/2817 [39:01<18:09,  1.64it/s]"
     ]
    },
    {
     "name": "stdout",
     "output_type": "stream",
     "text": [
      "Page for \"Bienville County, LA\" cannot be disambiguated and/or found.\n"
     ]
    },
    {
     "name": "stderr",
     "output_type": "stream",
     "text": [
      " 36%|███▋      | 1027/2817 [39:02<16:41,  1.79it/s]"
     ]
    },
    {
     "name": "stdout",
     "output_type": "stream",
     "text": [
      "Page for \"Bossier County, LA\" cannot be disambiguated and/or found.\n"
     ]
    },
    {
     "name": "stderr",
     "output_type": "stream",
     "text": [
      " 36%|███▋      | 1028/2817 [39:02<15:41,  1.90it/s]"
     ]
    },
    {
     "name": "stdout",
     "output_type": "stream",
     "text": [
      "Page for \"Caddo County, LA\" cannot be disambiguated and/or found.\n"
     ]
    },
    {
     "name": "stderr",
     "output_type": "stream",
     "text": [
      " 37%|███▋      | 1029/2817 [39:03<14:55,  2.00it/s]"
     ]
    },
    {
     "name": "stdout",
     "output_type": "stream",
     "text": [
      "Page for \"Calcasieu County, LA\" cannot be disambiguated and/or found.\n"
     ]
    },
    {
     "name": "stderr",
     "output_type": "stream",
     "text": [
      " 37%|███▋      | 1030/2817 [39:03<14:27,  2.06it/s]"
     ]
    },
    {
     "name": "stdout",
     "output_type": "stream",
     "text": [
      "Page for \"Caldwell County, LA\" cannot be disambiguated and/or found.\n"
     ]
    },
    {
     "name": "stderr",
     "output_type": "stream",
     "text": [
      " 37%|███▋      | 1031/2817 [39:04<14:08,  2.11it/s]"
     ]
    },
    {
     "name": "stdout",
     "output_type": "stream",
     "text": [
      "Page for \"Catahoula County, LA\" cannot be disambiguated and/or found.\n"
     ]
    },
    {
     "name": "stderr",
     "output_type": "stream",
     "text": [
      " 37%|███▋      | 1032/2817 [39:04<14:08,  2.10it/s]"
     ]
    },
    {
     "name": "stdout",
     "output_type": "stream",
     "text": [
      "Page for \"Claiborne County, LA\" cannot be disambiguated and/or found.\n"
     ]
    },
    {
     "name": "stderr",
     "output_type": "stream",
     "text": [
      " 37%|███▋      | 1033/2817 [39:05<13:50,  2.15it/s]"
     ]
    },
    {
     "name": "stdout",
     "output_type": "stream",
     "text": [
      "Page for \"Concordia County, LA\" cannot be disambiguated and/or found.\n"
     ]
    },
    {
     "name": "stderr",
     "output_type": "stream",
     "text": [
      " 37%|███▋      | 1034/2817 [39:05<13:48,  2.15it/s]"
     ]
    },
    {
     "name": "stdout",
     "output_type": "stream",
     "text": [
      "Page for \"De Soto County, LA\" cannot be disambiguated and/or found.\n"
     ]
    },
    {
     "name": "stderr",
     "output_type": "stream",
     "text": [
      " 37%|███▋      | 1035/2817 [39:05<13:47,  2.15it/s]"
     ]
    },
    {
     "name": "stdout",
     "output_type": "stream",
     "text": [
      "Page for \"East Carroll County, LA\" cannot be disambiguated and/or found.\n"
     ]
    },
    {
     "name": "stderr",
     "output_type": "stream",
     "text": [
      " 37%|███▋      | 1036/2817 [39:06<13:38,  2.18it/s]"
     ]
    },
    {
     "name": "stdout",
     "output_type": "stream",
     "text": [
      "Page for \"East Feliciana County, LA\" cannot be disambiguated and/or found.\n"
     ]
    },
    {
     "name": "stderr",
     "output_type": "stream",
     "text": [
      " 37%|███▋      | 1037/2817 [39:06<13:30,  2.20it/s]"
     ]
    },
    {
     "name": "stdout",
     "output_type": "stream",
     "text": [
      "Page for \"Evangeline County, LA\" cannot be disambiguated and/or found.\n"
     ]
    },
    {
     "name": "stderr",
     "output_type": "stream",
     "text": [
      " 37%|███▋      | 1038/2817 [39:07<13:43,  2.16it/s]"
     ]
    },
    {
     "name": "stdout",
     "output_type": "stream",
     "text": [
      "Page for \"Iberia County, LA\" cannot be disambiguated and/or found.\n"
     ]
    },
    {
     "name": "stderr",
     "output_type": "stream",
     "text": [
      " 37%|███▋      | 1039/2817 [39:07<13:30,  2.19it/s]"
     ]
    },
    {
     "name": "stdout",
     "output_type": "stream",
     "text": [
      "Page for \"Iberville County, LA\" cannot be disambiguated and/or found.\n"
     ]
    },
    {
     "name": "stderr",
     "output_type": "stream",
     "text": [
      " 37%|███▋      | 1040/2817 [39:08<13:27,  2.20it/s]"
     ]
    },
    {
     "name": "stdout",
     "output_type": "stream",
     "text": [
      "Page for \"Jefferson Davis County, LA\" cannot be disambiguated and/or found.\n"
     ]
    },
    {
     "name": "stderr",
     "output_type": "stream",
     "text": [
      " 37%|███▋      | 1041/2817 [39:08<13:19,  2.22it/s]"
     ]
    },
    {
     "name": "stdout",
     "output_type": "stream",
     "text": [
      "Page for \"Lafayette County, LA\" cannot be disambiguated and/or found.\n"
     ]
    },
    {
     "name": "stderr",
     "output_type": "stream",
     "text": [
      " 37%|███▋      | 1042/2817 [39:09<13:15,  2.23it/s]"
     ]
    },
    {
     "name": "stdout",
     "output_type": "stream",
     "text": [
      "Page for \"Lafourche County, LA\" cannot be disambiguated and/or found.\n"
     ]
    },
    {
     "name": "stderr",
     "output_type": "stream",
     "text": [
      " 37%|███▋      | 1043/2817 [39:09<13:15,  2.23it/s]"
     ]
    },
    {
     "name": "stdout",
     "output_type": "stream",
     "text": [
      "Page for \"La Salle County, LA\" cannot be disambiguated and/or found.\n"
     ]
    },
    {
     "name": "stderr",
     "output_type": "stream",
     "text": [
      " 37%|███▋      | 1044/2817 [39:09<13:16,  2.23it/s]"
     ]
    },
    {
     "name": "stdout",
     "output_type": "stream",
     "text": [
      "Page for \"Livingston County, LA\" cannot be disambiguated and/or found.\n"
     ]
    },
    {
     "name": "stderr",
     "output_type": "stream",
     "text": [
      " 37%|███▋      | 1045/2817 [39:10<13:27,  2.20it/s]"
     ]
    },
    {
     "name": "stdout",
     "output_type": "stream",
     "text": [
      "Page for \"Morehouse County, LA\" cannot be disambiguated and/or found.\n"
     ]
    },
    {
     "name": "stderr",
     "output_type": "stream",
     "text": [
      " 37%|███▋      | 1046/2817 [39:10<13:21,  2.21it/s]"
     ]
    },
    {
     "name": "stdout",
     "output_type": "stream",
     "text": [
      "Page for \"Natchitoches County, LA\" cannot be disambiguated and/or found.\n"
     ]
    },
    {
     "name": "stderr",
     "output_type": "stream",
     "text": [
      " 37%|███▋      | 1047/2817 [39:11<13:14,  2.23it/s]"
     ]
    },
    {
     "name": "stdout",
     "output_type": "stream",
     "text": [
      "Page for \"Ouachita County, LA\" cannot be disambiguated and/or found.\n"
     ]
    },
    {
     "name": "stderr",
     "output_type": "stream",
     "text": [
      " 37%|███▋      | 1048/2817 [39:11<13:14,  2.23it/s]"
     ]
    },
    {
     "name": "stdout",
     "output_type": "stream",
     "text": [
      "Page for \"Plaquemines County, LA\" cannot be disambiguated and/or found.\n"
     ]
    },
    {
     "name": "stderr",
     "output_type": "stream",
     "text": [
      " 37%|███▋      | 1049/2817 [39:12<13:14,  2.23it/s]"
     ]
    },
    {
     "name": "stdout",
     "output_type": "stream",
     "text": [
      "Page for \"Pointe Coupee County, LA\" cannot be disambiguated and/or found.\n"
     ]
    },
    {
     "name": "stderr",
     "output_type": "stream",
     "text": [
      " 37%|███▋      | 1050/2817 [39:12<13:14,  2.22it/s]"
     ]
    },
    {
     "name": "stdout",
     "output_type": "stream",
     "text": [
      "Page for \"Rapides County, LA\" cannot be disambiguated and/or found.\n"
     ]
    },
    {
     "name": "stderr",
     "output_type": "stream",
     "text": [
      " 37%|███▋      | 1051/2817 [39:13<13:14,  2.22it/s]"
     ]
    },
    {
     "name": "stdout",
     "output_type": "stream",
     "text": [
      "Page for \"Red River County, LA\" cannot be disambiguated and/or found.\n"
     ]
    },
    {
     "name": "stderr",
     "output_type": "stream",
     "text": [
      " 37%|███▋      | 1052/2817 [39:13<13:14,  2.22it/s]"
     ]
    },
    {
     "name": "stdout",
     "output_type": "stream",
     "text": [
      "Page for \"Richland County, LA\" cannot be disambiguated and/or found.\n"
     ]
    },
    {
     "name": "stderr",
     "output_type": "stream",
     "text": [
      " 37%|███▋      | 1053/2817 [39:14<13:09,  2.23it/s]"
     ]
    },
    {
     "name": "stdout",
     "output_type": "stream",
     "text": [
      "Page for \"Sabine County, LA\" cannot be disambiguated and/or found.\n"
     ]
    },
    {
     "name": "stderr",
     "output_type": "stream",
     "text": [
      " 37%|███▋      | 1054/2817 [39:14<14:29,  2.03it/s]"
     ]
    },
    {
     "name": "stdout",
     "output_type": "stream",
     "text": [
      "Page for \"St. Bernard County, LA\" cannot be disambiguated and/or found.\n"
     ]
    },
    {
     "name": "stderr",
     "output_type": "stream",
     "text": [
      " 37%|███▋      | 1055/2817 [39:15<13:59,  2.10it/s]"
     ]
    },
    {
     "name": "stdout",
     "output_type": "stream",
     "text": [
      "Page for \"St. Charles County, LA\" cannot be disambiguated and/or found.\n"
     ]
    },
    {
     "name": "stderr",
     "output_type": "stream",
     "text": [
      " 37%|███▋      | 1056/2817 [39:15<14:09,  2.07it/s]"
     ]
    },
    {
     "name": "stdout",
     "output_type": "stream",
     "text": [
      "Page for \"St. John the Baptist County, LA\" cannot be disambiguated and/or found.\n"
     ]
    },
    {
     "name": "stderr",
     "output_type": "stream",
     "text": [
      " 38%|███▊      | 1057/2817 [39:16<13:48,  2.12it/s]"
     ]
    },
    {
     "name": "stdout",
     "output_type": "stream",
     "text": [
      "Page for \"St. Landry County, LA\" cannot be disambiguated and/or found.\n"
     ]
    },
    {
     "name": "stderr",
     "output_type": "stream",
     "text": [
      " 38%|███▊      | 1058/2817 [39:16<13:40,  2.14it/s]"
     ]
    },
    {
     "name": "stdout",
     "output_type": "stream",
     "text": [
      "Page for \"St. Mary County, LA\" cannot be disambiguated and/or found.\n"
     ]
    },
    {
     "name": "stderr",
     "output_type": "stream",
     "text": [
      " 38%|███▊      | 1059/2817 [39:16<13:28,  2.18it/s]"
     ]
    },
    {
     "name": "stdout",
     "output_type": "stream",
     "text": [
      "Page for \"St. Tammany County, LA\" cannot be disambiguated and/or found.\n"
     ]
    },
    {
     "name": "stderr",
     "output_type": "stream",
     "text": [
      " 38%|███▊      | 1060/2817 [39:17<13:38,  2.15it/s]"
     ]
    },
    {
     "name": "stdout",
     "output_type": "stream",
     "text": [
      "Page for \"Tangipahoa County, LA\" cannot be disambiguated and/or found.\n"
     ]
    },
    {
     "name": "stderr",
     "output_type": "stream",
     "text": [
      " 38%|███▊      | 1061/2817 [39:17<13:34,  2.16it/s]"
     ]
    },
    {
     "name": "stdout",
     "output_type": "stream",
     "text": [
      "Page for \"Tensas County, LA\" cannot be disambiguated and/or found.\n"
     ]
    },
    {
     "name": "stderr",
     "output_type": "stream",
     "text": [
      " 38%|███▊      | 1062/2817 [39:18<13:26,  2.18it/s]"
     ]
    },
    {
     "name": "stdout",
     "output_type": "stream",
     "text": [
      "Page for \"Terrebonne County, LA\" cannot be disambiguated and/or found.\n"
     ]
    },
    {
     "name": "stderr",
     "output_type": "stream",
     "text": [
      " 38%|███▊      | 1063/2817 [39:18<13:22,  2.19it/s]"
     ]
    },
    {
     "name": "stdout",
     "output_type": "stream",
     "text": [
      "Page for \"Vermilion County, LA\" cannot be disambiguated and/or found.\n"
     ]
    },
    {
     "name": "stderr",
     "output_type": "stream",
     "text": [
      " 38%|███▊      | 1064/2817 [39:19<13:16,  2.20it/s]"
     ]
    },
    {
     "name": "stdout",
     "output_type": "stream",
     "text": [
      "Page for \"Vernon County, LA\" cannot be disambiguated and/or found.\n"
     ]
    },
    {
     "name": "stderr",
     "output_type": "stream",
     "text": [
      " 38%|███▊      | 1065/2817 [39:19<13:14,  2.21it/s]"
     ]
    },
    {
     "name": "stdout",
     "output_type": "stream",
     "text": [
      "Page for \"Webster County, LA\" cannot be disambiguated and/or found.\n"
     ]
    },
    {
     "name": "stderr",
     "output_type": "stream",
     "text": [
      " 38%|███▊      | 1066/2817 [39:20<13:11,  2.21it/s]"
     ]
    },
    {
     "name": "stdout",
     "output_type": "stream",
     "text": [
      "Page for \"West Baton Rouge County, LA\" cannot be disambiguated and/or found.\n"
     ]
    },
    {
     "name": "stderr",
     "output_type": "stream",
     "text": [
      " 38%|███▊      | 1067/2817 [39:20<13:10,  2.21it/s]"
     ]
    },
    {
     "name": "stdout",
     "output_type": "stream",
     "text": [
      "Page for \"West Carroll County, LA\" cannot be disambiguated and/or found.\n"
     ]
    },
    {
     "name": "stderr",
     "output_type": "stream",
     "text": [
      " 38%|███▊      | 1068/2817 [39:21<13:09,  2.22it/s]"
     ]
    },
    {
     "name": "stdout",
     "output_type": "stream",
     "text": [
      "Page for \"West Feliciana County, LA\" cannot be disambiguated and/or found.\n"
     ]
    },
    {
     "name": "stderr",
     "output_type": "stream",
     "text": [
      " 38%|███▊      | 1069/2817 [39:21<13:02,  2.23it/s]"
     ]
    },
    {
     "name": "stdout",
     "output_type": "stream",
     "text": [
      "Page for \"Winn County, LA\" cannot be disambiguated and/or found.\n"
     ]
    },
    {
     "name": "stderr",
     "output_type": "stream",
     "text": [
      " 57%|█████▋    | 1597/2817 [59:39<35:56,  1.77s/it]  "
     ]
    },
    {
     "name": "stdout",
     "output_type": "stream",
     "text": [
      "Page for \"Carson City County, NV\" cannot be disambiguated and/or found.\n"
     ]
    },
    {
     "name": "stderr",
     "output_type": "stream",
     "text": [
      " 94%|█████████▍| 2652/2817 [1:40:50<04:45,  1.73s/it]"
     ]
    },
    {
     "name": "stdout",
     "output_type": "stream",
     "text": [
      "Page for \"Charlottesville County, VA\" cannot be disambiguated and/or found.\n"
     ]
    },
    {
     "name": "stderr",
     "output_type": "stream",
     "text": [
      " 94%|█████████▍| 2653/2817 [1:40:50<03:41,  1.35s/it]"
     ]
    },
    {
     "name": "stdout",
     "output_type": "stream",
     "text": [
      "Page for \"Falls Church County, VA\" cannot be disambiguated and/or found.\n"
     ]
    },
    {
     "name": "stderr",
     "output_type": "stream",
     "text": [
      " 94%|█████████▍| 2654/2817 [1:40:51<02:55,  1.08s/it]"
     ]
    },
    {
     "name": "stdout",
     "output_type": "stream",
     "text": [
      "Page for \"Harrisonburg County, VA\" cannot be disambiguated and/or found.\n"
     ]
    },
    {
     "name": "stderr",
     "output_type": "stream",
     "text": [
      " 94%|█████████▍| 2655/2817 [1:40:51<02:24,  1.12it/s]"
     ]
    },
    {
     "name": "stdout",
     "output_type": "stream",
     "text": [
      "Page for \"Manassas Park County, VA\" cannot be disambiguated and/or found.\n"
     ]
    },
    {
     "name": "stderr",
     "output_type": "stream",
     "text": [
      " 94%|█████████▍| 2656/2817 [1:40:52<02:01,  1.32it/s]"
     ]
    },
    {
     "name": "stdout",
     "output_type": "stream",
     "text": [
      "Page for \"Martinsville County, VA\" cannot be disambiguated and/or found.\n"
     ]
    },
    {
     "name": "stderr",
     "output_type": "stream",
     "text": [
      " 94%|█████████▍| 2657/2817 [1:40:52<01:46,  1.50it/s]"
     ]
    },
    {
     "name": "stdout",
     "output_type": "stream",
     "text": [
      "Page for \"Poquoson County, VA\" cannot be disambiguated and/or found.\n"
     ]
    },
    {
     "name": "stderr",
     "output_type": "stream",
     "text": [
      " 94%|█████████▍| 2658/2817 [1:40:52<01:37,  1.62it/s]"
     ]
    },
    {
     "name": "stdout",
     "output_type": "stream",
     "text": [
      "Page for \"Virginia Beach County, VA\" cannot be disambiguated and/or found.\n"
     ]
    },
    {
     "name": "stderr",
     "output_type": "stream",
     "text": [
      "100%|██████████| 2817/2817 [1:47:05<00:00,  2.28s/it]\n"
     ]
    }
   ],
   "source": [
    "rows = []\n",
    "for idx, row in tqdm(poly_counties.iterrows(), total = len(poly_counties)):\n",
    "    location = remove_parentheses(row.County + ' County')\n",
    "    state = row['State']\n",
    "    country = 'United States'\n",
    "    coords = (row.Latitude, row.Longitude)\n",
    "    \n",
    "    location += f', {state}'\n",
    "    # check for disambiguation and add state/country if disamb reached\n",
    "    if disamb_check(location):\n",
    "        print(f'Page for \"{location}\" cannot be disambiguated and/or found.')\n",
    "        continue\n",
    "    # retrieve page\n",
    "    page = wikipedia.WikipediaPage(location)   \n",
    "    sentences = process_page(page)\n",
    "    for sentence in sentences:\n",
    "        row = {}\n",
    "        row['city'] = location\n",
    "        row['country'] = country\n",
    "        row['coordinates'] = coords\n",
    "        row['text'] = sentence\n",
    "        rows.append(row)\n",
    "        \n",
    "processed_wiki_counties = pd.DataFrame(rows)"
   ]
  },
  {
   "cell_type": "code",
   "execution_count": 79,
   "metadata": {},
   "outputs": [],
   "source": [
    "processed_wiki_counties.to_csv('../data/NB2/wiki_counties_reference.csv', index = False)"
   ]
  },
  {
   "cell_type": "markdown",
   "metadata": {},
   "source": [
    "## 2.4 Tagging locations in the datasets\n",
    "Finally, we need to use our trained TopoBERT model to identify toponyms in each dataset. The two datasets will be joined together after relational retagging in notebook 3.\n"
   ]
  },
  {
   "cell_type": "code",
   "execution_count": null,
   "metadata": {},
   "outputs": [],
   "source": [
    "# Load the dataset using the BERT_geoparser Data.py module\n",
    "data_csv = r'../data/NB1/wikineural_train_dataset.csv' # specify the data used to train the model for correct tokenization.\n",
    "tokenizer = Tokenizer(size='large', cased=True)\n",
    "data = Data(data_path=data_csv, \n",
    "            tokenizer=tokenizer,\n",
    "            max_len=80)\n",
    "\n",
    "model = BertModel(saved_model='../models/TopoBERT_WikiNeural.hdf5', data=data)\n",
    "model.model.summary()\n",
    "\n",
    "cities_data = pd.read_csv('../data/NB2/wiki_cities_reference.csv')\n",
    "counties_data = pd.read_csv('../data/NB2/wiki_counties_reference.csv')\n",
    "\n",
    "print('Tagging cities dataset')\n",
    "cities_results_df = model.results_dataframe(cities_data.text.values, include_best=True)\n",
    "print('Tagging counties dataset')\n",
    "counties_results_df = model.results_dataframe(counties_data.text.values, include_best=True)"
   ]
  },
  {
   "cell_type": "code",
   "execution_count": 48,
   "metadata": {},
   "outputs": [],
   "source": [
    "cities_results_df.to_csv('../data/NB2/wiki_cities_tagged.csv', index=False)\n",
    "counties_results_df.to_csv('../data/NB2/wiki_counties_tagged.csv', index=False)"
   ]
  }
 ],
 "metadata": {
  "kernelspec": {
   "display_name": "tensorflow-gpu",
   "language": "python",
   "name": "python3"
  },
  "language_info": {
   "codemirror_mode": {
    "name": "ipython",
    "version": 3
   },
   "file_extension": ".py",
   "mimetype": "text/x-python",
   "name": "python",
   "nbconvert_exporter": "python",
   "pygments_lexer": "ipython3",
   "version": "3.10.13"
  }
 },
 "nbformat": 4,
 "nbformat_minor": 2
}
